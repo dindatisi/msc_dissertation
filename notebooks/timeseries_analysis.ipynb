{
 "cells": [
  {
   "cell_type": "code",
   "execution_count": null,
   "metadata": {},
   "outputs": [],
   "source": [
    "import pandas as pd\n",
    "import random\n",
    "import numpy as np\n",
    "from operator import itemgetter\n",
    "from collections import Counter\n",
    "import datetime\n",
    "from sklearn.utils import resample\n",
    "import warnings\n",
    "warnings.filterwarnings('ignore')\n",
    "import gc\n",
    "from scipy import stats\n",
    "\n",
    "# Visualization\n",
    "import seaborn as sns\n",
    "import matplotlib.pyplot as plt\n",
    "%matplotlib inline\n",
    "\n",
    "import experiment_prep as exp"
   ]
  },
  {
   "cell_type": "code",
   "execution_count": null,
   "metadata": {},
   "outputs": [],
   "source": [
    "def clean_for_source(row):\n",
    "    if row['first_stream_source'] =='album':\n",
    "        return row['track_album']\n",
    "    elif row['first_stream_source'] =='others_playlist':\n",
    "        return None\n",
    "    \n",
    "def clean_for_source_pl(row):\n",
    "    if row['first_stream_source'] =='album':\n",
    "        return None\n",
    "    elif row['first_stream_source'] =='others_playlist':\n",
    "        return row['track_playlist']\n",
    "    \n",
    "def set_cohort_group(df,mode='week'):\n",
    "    '''\n",
    "    Identify cohort group based on date of first streaming\n",
    "    '''\n",
    "    df['id'] = df['customer_id']\n",
    "    df = df.set_index('id')\n",
    "    # customer first & last day\n",
    "    if mode=='week':\n",
    "        df['first_listen'] = df.groupby(level=0)['week'].min()\n",
    "        df['last_listen'] = df.groupby(level=0)['week'].max()\n",
    "    elif mode=='day':\n",
    "        df['first_listen'] = df.groupby(level=0)['day'].min()\n",
    "        df['last_listen'] = df.groupby(level=0)['day'].max()\n",
    "    df['cohort_group'] = df['first_listen']\n",
    "    df['cohort_group'] = df['cohort_group'].astype('str')\n",
    "    df = df.reset_index()\n",
    "    return df"
   ]
  },
  {
   "cell_type": "markdown",
   "metadata": {},
   "source": [
    "---"
   ]
  },
  {
   "cell_type": "markdown",
   "metadata": {},
   "source": [
    "#### checking evaluation period (daily/weekly)"
   ]
  },
  {
   "cell_type": "code",
   "execution_count": null,
   "metadata": {},
   "outputs": [],
   "source": [
    "def get_stream_days(df):\n",
    "    days = df.groupby('customer_id')['day'].nunique().to_dict()\n",
    "    df['stream_days'] = df.customer_id.map(days)\n",
    "    return df\n",
    "df = get_stream_days(df)\n",
    "df.columns"
   ]
  },
  {
   "cell_type": "code",
   "execution_count": null,
   "metadata": {},
   "outputs": [],
   "source": [
    "df.drop_duplicates(subset='customer_id')[df.stream_days>=70].customer_id.nunique()"
   ]
  },
  {
   "cell_type": "code",
   "execution_count": null,
   "metadata": {},
   "outputs": [],
   "source": [
    "df.drop_duplicates(subset='customer_id')[df.stream_days>=70].customer_id.nunique()"
   ]
  },
  {
   "cell_type": "code",
   "execution_count": null,
   "metadata": {},
   "outputs": [],
   "source": [
    "df['stream_days_bin'] = pd.cut(df.stream_days,[-1,69,100],labels=['weekly', 'daily'])"
   ]
  },
  {
   "cell_type": "code",
   "execution_count": null,
   "metadata": {},
   "outputs": [],
   "source": [
    "df.drop_duplicates(subset='customer_id')['stream_days_bin'].value_counts().plot.bar(color='darkblue', title='customers streaming frequency')"
   ]
  },
  {
   "cell_type": "code",
   "execution_count": null,
   "metadata": {},
   "outputs": [],
   "source": [
    "plt.figure(figsize=(10,8))\n",
    "sns.distplot(df.drop_duplicates(subset='customer_id').stream_days)\n",
    "plt.title('distribution of customers stream days')"
   ]
  },
  {
   "cell_type": "code",
   "execution_count": null,
   "metadata": {},
   "outputs": [],
   "source": [
    "gc.collect()"
   ]
  },
  {
   "cell_type": "code",
   "execution_count": null,
   "metadata": {},
   "outputs": [],
   "source": [
    "TRACK_ID = 'f72fa60c8d9848a393d8ac4bbaa866ef'"
   ]
  },
  {
   "cell_type": "code",
   "execution_count": null,
   "metadata": {},
   "outputs": [],
   "source": [
    "df = pd.read_pickle('/project/samples/new/sample_mixed_105k_cleaned2.pickle')"
   ]
  },
  {
   "cell_type": "markdown",
   "metadata": {},
   "source": [
    "### within discovery channels"
   ]
  },
  {
   "cell_type": "markdown",
   "metadata": {},
   "source": [
    "#### preparing the data"
   ]
  },
  {
   "cell_type": "markdown",
   "metadata": {},
   "source": [
    "getting non-listeners"
   ]
  },
  {
   "cell_type": "code",
   "execution_count": null,
   "metadata": {},
   "outputs": [],
   "source": [
    "# create separate df for track streams\n",
    "df_track = df[df.track_id==TRACK_ID]"
   ]
  },
  {
   "cell_type": "code",
   "execution_count": null,
   "metadata": {},
   "outputs": [],
   "source": [
    "listeners = df[df.track_id==TRACK_ID].customer_id.unique()\n",
    "df_non = df[~df.customer_id.isin(df_track.customer_id)]"
   ]
  },
  {
   "cell_type": "code",
   "execution_count": null,
   "metadata": {},
   "outputs": [],
   "source": [
    "df_non.customer_id.nunique()"
   ]
  },
  {
   "cell_type": "code",
   "execution_count": null,
   "metadata": {},
   "outputs": [],
   "source": [
    "gc.collect()"
   ]
  },
  {
   "cell_type": "code",
   "execution_count": null,
   "metadata": {},
   "outputs": [],
   "source": [
    "df_non = pd.read_pickle('data/exp_non_listeners.pickle')"
   ]
  },
  {
   "cell_type": "code",
   "execution_count": null,
   "metadata": {},
   "outputs": [],
   "source": [
    "df_non.customer_id.nunique()"
   ]
  },
  {
   "cell_type": "code",
   "execution_count": null,
   "metadata": {},
   "outputs": [],
   "source": [
    "df_non.to_pickle('data/exp_non_listeners.pickle')"
   ]
  },
  {
   "cell_type": "code",
   "execution_count": null,
   "metadata": {},
   "outputs": [],
   "source": [
    "# get customers with full week prior data\n",
    "def get_stream_weeks(df):\n",
    "    weeks = df.groupby('customer_id')['week'].nunique()\n",
    "    df['stream_weeks'] = df.customer_id.map(weeks)\n",
    "    return df\n",
    "\n",
    "def get_stream_unique_weeks(df):\n",
    "    weeks = df.groupby('customer_id')['week'].unique()\n",
    "    df['stream_weeks_list'] = df.customer_id.map(weeks)\n",
    "    return df\n",
    "\n",
    "df_non = get_stream_weeks(df_non)\n",
    "df_non[df_non.stream_weeks==10].customer_id.nunique()"
   ]
  },
  {
   "cell_type": "code",
   "execution_count": null,
   "metadata": {},
   "outputs": [],
   "source": [
    "df_non = get_stream_unique_weeks(df_non)"
   ]
  },
  {
   "cell_type": "code",
   "execution_count": null,
   "metadata": {},
   "outputs": [],
   "source": [
    "def flag_eligibility(r):\n",
    "    # customers to be included should have streaming data before and after event (week 16)\n",
    "    post = [w for w in r if w in[17,18,19,20]] \n",
    "    pre = [w for w in r if w in[12,13,14,15]] \n",
    "    if len(post)>0 and len(pre)>0:\n",
    "        return 1\n",
    "    else:\n",
    "        return 0"
   ]
  },
  {
   "cell_type": "code",
   "execution_count": null,
   "metadata": {},
   "outputs": [],
   "source": [
    "# at least have 3 weeks listening history covered including week 16\n",
    "nonlisteners_in = df_non[(df_non.week==16) & (df_non.stream_weeks>2)].customer_id.unique()\n",
    "df_non = df_non[df_non.customer_id.isin(nonlisteners_in)]\n",
    "df_non.customer_id.nunique()"
   ]
  },
  {
   "cell_type": "code",
   "execution_count": null,
   "metadata": {},
   "outputs": [],
   "source": [
    "# checking control groups size\n",
    "df_non[(df_non.album_name.isin(album.track_album))].customer_id.nunique(),df_non[(df_non.playlist_id.isin(playlist.track_playlist))].customer_id.nunique()"
   ]
  },
  {
   "cell_type": "code",
   "execution_count": null,
   "metadata": {},
   "outputs": [],
   "source": [
    "# filter to only use customers with data across pre-post event\n",
    "#df_non['include_as_control'] = df_non.stream_weeks_list.apply(flag_eligibility)\n",
    "df_non = df_non[df_non.include_as_control==1]\n",
    "\n",
    "# rechecking control groups size\n",
    "df_non[(df_non.album_name.isin(album.track_album))].customer_id.nunique(),df_non[(df_non.playlist_id.isin(playlist.track_playlist))].customer_id.nunique()"
   ]
  },
  {
   "cell_type": "code",
   "execution_count": null,
   "metadata": {},
   "outputs": [],
   "source": [
    "df_non.to_pickle('data/exp_non_listeners_filtered.pickle')"
   ]
  },
  {
   "cell_type": "code",
   "execution_count": null,
   "metadata": {},
   "outputs": [],
   "source": [
    "df_non = pd.read_pickle('data/exp_non_listeners_filtered.pickle')\n",
    "df_non.columns"
   ]
  },
  {
   "cell_type": "code",
   "execution_count": null,
   "metadata": {},
   "outputs": [],
   "source": [
    "df_non[df_non.include_as_control==1].customer_id.nunique()"
   ]
  },
  {
   "cell_type": "code",
   "execution_count": null,
   "metadata": {},
   "outputs": [],
   "source": [
    "gc.collect()"
   ]
  },
  {
   "cell_type": "markdown",
   "metadata": {},
   "source": [
    "getting treatment group"
   ]
  },
  {
   "cell_type": "code",
   "execution_count": null,
   "metadata": {},
   "outputs": [],
   "source": [
    "# get customer population for album & playlist cohort\n",
    "in_scope = df_track[df_track.first_stream_source.isin(['album','others_playlist'])][['customer_id','album_name','playlist_id']]\n",
    "in_scope.head()\n",
    "\n",
    "# slice the customers\n",
    "df = df[df.customer_id.isin(in_scope.customer_id)]\n",
    "# limit to albums & playlists population related to see you again track\n",
    "df = df[(df.album_name.isin(in_scope.album_name)) | (df.playlist_id.isin(in_scope.playlist_id))]"
   ]
  },
  {
   "cell_type": "code",
   "execution_count": null,
   "metadata": {},
   "outputs": [],
   "source": [
    "# to get correct cohort group, use df track then marged to main df on customer_id\n",
    "df_track['id'] = df_track['customer_id']\n",
    "df_track = df_track.set_index('id')\n",
    "df_track[['first_listen','first_listen_logtime']] = df_track.groupby(level=0)[['week','logtime']].min()\n",
    "df_track['cohort_group'] = df_track['first_listen']\n",
    "df_track['cohort_group'] = df_track['cohort_group'].astype('str')\n",
    "df_track = df_track.reset_index()"
   ]
  },
  {
   "cell_type": "code",
   "execution_count": null,
   "metadata": {},
   "outputs": [],
   "source": [
    "df_track = df_track[['customer_id','cohort_group','first_listen_logtime','album_name','playlist_id','first_stream_source']]\n",
    "df_track = df_track.drop_duplicates(subset='customer_id')\n",
    "\n",
    "df_track.rename(columns={'album_name':'track_album', 'playlist_id':'track_playlist'},inplace=True)\n",
    "df_track.head()"
   ]
  },
  {
   "cell_type": "code",
   "execution_count": null,
   "metadata": {},
   "outputs": [],
   "source": [
    "df_track[['track_playlist']] = df_track.apply(lambda row: clean_for_source_pl(row),axis=1)\n",
    "df_track[['track_album']] = df_track.apply(lambda row: clean_for_source(row),axis=1)"
   ]
  },
  {
   "cell_type": "code",
   "execution_count": null,
   "metadata": {},
   "outputs": [],
   "source": [
    "# only get cohort group with significant user base\n",
    "df_track = df_track[df_track.cohort_group.isin(['15','16','17'])]"
   ]
  },
  {
   "cell_type": "code",
   "execution_count": null,
   "metadata": {},
   "outputs": [],
   "source": [
    "df = df[df.customer_id.isin(df_track.customer_id)]\n",
    "df = df.merge(df_track, on=['customer_id'],how='left')\n",
    "df.head()"
   ]
  },
  {
   "cell_type": "code",
   "execution_count": null,
   "metadata": {},
   "outputs": [],
   "source": [
    "gc.collect()"
   ]
  },
  {
   "cell_type": "code",
   "execution_count": null,
   "metadata": {},
   "outputs": [],
   "source": [
    "df = df.drop(['first_stream_source_y'],axis=1)\n",
    "df.rename(columns={'first_stream_source_x':'first_stream_source'},inplace=True)\n",
    "df.head()"
   ]
  },
  {
   "cell_type": "code",
   "execution_count": null,
   "metadata": {},
   "outputs": [],
   "source": [
    "# save for reuse later\n",
    "df.to_pickle('data/experiment_treatment_df_full_history.pickle')"
   ]
  },
  {
   "cell_type": "code",
   "execution_count": null,
   "metadata": {},
   "outputs": [],
   "source": [
    "gc.collect()"
   ]
  },
  {
   "cell_type": "code",
   "execution_count": null,
   "metadata": {},
   "outputs": [],
   "source": [
    "# split into album & playlist group\n",
    "\n",
    "# get album & playlist customer\n",
    "album_cust = df_track[df_track.first_stream_source=='album'].customer_id.unique()\n",
    "pl_cust = df_track[df_track.first_stream_source=='others_playlist'].customer_id.unique()\n",
    "\n",
    "# split the cohort & pick only cohort week 16\n",
    "album = df[(df.customer_id.isin(album_cust)) & (df.cohort_group=='16')]\n",
    "playlist = df[df.customer_id.isin(pl_cust) & (df.cohort_group=='16')]\n",
    "\n",
    "album.customer_id.nunique(),playlist.customer_id.nunique()"
   ]
  },
  {
   "cell_type": "markdown",
   "metadata": {},
   "source": [
    "#### feature engineering & data transformation"
   ]
  },
  {
   "cell_type": "markdown",
   "metadata": {},
   "source": [
    "control groups"
   ]
  },
  {
   "cell_type": "code",
   "execution_count": null,
   "metadata": {},
   "outputs": [],
   "source": [
    "albums= df.track_album.dropna().unique().tolist()\n",
    "playlists= df.track_playlist.dropna().unique().tolist()\n",
    "playlists"
   ]
  },
  {
   "cell_type": "code",
   "execution_count": null,
   "metadata": {},
   "outputs": [],
   "source": [
    "# SPLIT CONTROL GROUP FOR PLAYLIST & ALBUM SEGMENT\n",
    "\n",
    "# first get user\n",
    "album_control_users = df_non[(df_non.album_name.isin(albums))].customer_id.unique()\n",
    "pl_control_users = df_non[(df_non.playlist_id.isin(playlists))].customer_id.unique()\n",
    "\n",
    "df_control_playlist = df_non[(~df_non.customer_id.isin(album_control_users))]\n",
    "\n",
    "df_control_playlist.customer_id.nunique()\n"
   ]
  },
  {
   "cell_type": "code",
   "execution_count": null,
   "metadata": {},
   "outputs": [],
   "source": [
    "df_control_playlist = exp.get_avg_stream_count(df_control_playlist,mode='week')"
   ]
  },
  {
   "cell_type": "code",
   "execution_count": null,
   "metadata": {},
   "outputs": [],
   "source": [
    "gc.collect()"
   ]
  },
  {
   "cell_type": "code",
   "execution_count": null,
   "metadata": {},
   "outputs": [],
   "source": [
    "df_non.customer_id.nunique()"
   ]
  },
  {
   "cell_type": "code",
   "execution_count": null,
   "metadata": {},
   "outputs": [],
   "source": [
    "pl_control_sample = resample(df_control_playlist.drop_duplicates(subset='customer_id').customer_id,n_samples=11000, replace=False)\n",
    "df_control_playlist = df_control_playlist[df_control_playlist.customer_id.isin(pl_control_sample)]"
   ]
  },
  {
   "cell_type": "code",
   "execution_count": null,
   "metadata": {},
   "outputs": [],
   "source": [
    "# SPLIT CONTROL GROUP FOR PLAYLIST & ALBUM SEGMENT\n",
    "\n",
    "# first get user\n",
    "album_control_users = df_non[(df_non.album_name.isin(album.track_album))].customer_id.unique()\n",
    "pl_control_users = df_non[(df_non.playlist_id.isin(playlist.track_playlist))].customer_id.unique()\n",
    "\n",
    "df_control_album =  df_non[df_non.customer_id.isin(album_control_users)]\n",
    "df_control_playlist = df_non[(df_non.customer_id.isin(df_exp_control.customer_id)) & (~df_non.customer_id.isin(album_control_users))]\n",
    "\n",
    "df_control_album.customer_id.nunique(), df_control_playlist.customer_id.nunique()"
   ]
  },
  {
   "cell_type": "code",
   "execution_count": null,
   "metadata": {},
   "outputs": [],
   "source": [
    "# get weekly stream count\n",
    "df_control_playlist = exp.get_avg_stream_count(df_control_playlist,mode='week')\n",
    "df_control_album = exp.get_avg_stream_count(df_control_album,mode='week')"
   ]
  },
  {
   "cell_type": "code",
   "execution_count": null,
   "metadata": {},
   "outputs": [],
   "source": [
    "df_control_playlist['group'] = 'playlist'\n",
    "df_control_album['group'] = 'album'"
   ]
  },
  {
   "cell_type": "code",
   "execution_count": null,
   "metadata": {},
   "outputs": [],
   "source": [
    "pl_control_sample = resample(df_control_playlist.drop_duplicates(subset='customer_id').customer_id,n_samples=11000, replace=False)"
   ]
  },
  {
   "cell_type": "code",
   "execution_count": null,
   "metadata": {},
   "outputs": [],
   "source": [
    "df_control_playlist = df_control_playlist[df_control_playlist.customer_id.isin(pl_control_sample)]"
   ]
  },
  {
   "cell_type": "code",
   "execution_count": null,
   "metadata": {},
   "outputs": [],
   "source": [
    "df_control_playlist.customer_id.nunique()"
   ]
  },
  {
   "cell_type": "code",
   "execution_count": null,
   "metadata": {},
   "outputs": [],
   "source": [
    "df_non = pd.concat([df_control_playlist,df_control_album],ignore_index=True)"
   ]
  },
  {
   "cell_type": "code",
   "execution_count": null,
   "metadata": {},
   "outputs": [],
   "source": [
    "df_non.to_pickle('/project/data/exp_non_filtered_final_inchart.pickle')"
   ]
  },
  {
   "cell_type": "code",
   "execution_count": null,
   "metadata": {},
   "outputs": [],
   "source": [
    "df_control_pre,df_control_post = get_pre_post_non_listeners_df(df_non)"
   ]
  },
  {
   "cell_type": "code",
   "execution_count": null,
   "metadata": {},
   "outputs": [],
   "source": [
    "df_non.head()"
   ]
  },
  {
   "cell_type": "code",
   "execution_count": null,
   "metadata": {},
   "outputs": [],
   "source": [
    "df_non.customer_id.nunique()"
   ]
  },
  {
   "cell_type": "code",
   "execution_count": null,
   "metadata": {},
   "outputs": [],
   "source": [
    "week16_active = df_non[df_non.week==16].customer_id.unique()\n",
    "len(week16_active)"
   ]
  },
  {
   "cell_type": "code",
   "execution_count": null,
   "metadata": {},
   "outputs": [],
   "source": [
    "df_control_pre.head()"
   ]
  },
  {
   "cell_type": "code",
   "execution_count": null,
   "metadata": {},
   "outputs": [],
   "source": [
    "gc.collect()"
   ]
  },
  {
   "cell_type": "code",
   "execution_count": null,
   "metadata": {},
   "outputs": [],
   "source": [
    "df_exp_control = pd.concat([df_control_pre,df_control_post],ignore_index=True).drop_duplicates(subset=['customer_id','week'])\n",
    "output = '/project/exp_output/exp_3007_nonlisteners.csv'\n",
    "df_exp_control.to_csv(output,index=False)"
   ]
  },
  {
   "cell_type": "code",
   "execution_count": null,
   "metadata": {},
   "outputs": [],
   "source": [
    "df_exp_control.to_pickle('/project/exp_output/exp_3007_nonlisteners.pickle')"
   ]
  },
  {
   "cell_type": "code",
   "execution_count": null,
   "metadata": {},
   "outputs": [],
   "source": [
    "df_exp_control = pd.read_csv('/project/exp_output/exp_3007_nonlisteners.csv',index_col=False)"
   ]
  },
  {
   "cell_type": "code",
   "execution_count": null,
   "metadata": {},
   "outputs": [],
   "source": [
    "# make sure no overlap\n",
    "df_exp_control[df_exp_control.customer_id.isin(album.customer_id)],df_exp_control[df_exp_control.customer_id.isin(playlist.customer_id)]"
   ]
  },
  {
   "cell_type": "code",
   "execution_count": null,
   "metadata": {},
   "outputs": [],
   "source": [
    "df_exp_control.head()"
   ]
  },
  {
   "cell_type": "code",
   "execution_count": null,
   "metadata": {},
   "outputs": [],
   "source": [
    "gc.collect()"
   ]
  },
  {
   "cell_type": "markdown",
   "metadata": {},
   "source": [
    "treatment groups"
   ]
  },
  {
   "cell_type": "code",
   "execution_count": null,
   "metadata": {},
   "outputs": [],
   "source": [
    "# get weekly stream count\n",
    "playlist = exp.get_avg_stream_count(playlist,mode='week')\n",
    "album = exp.get_avg_stream_count(album,mode='week')"
   ]
  },
  {
   "cell_type": "code",
   "execution_count": null,
   "metadata": {},
   "outputs": [],
   "source": [
    "playlist.customer_id.nunique(), album.customer_id.nunique()"
   ]
  },
  {
   "cell_type": "code",
   "execution_count": null,
   "metadata": {},
   "outputs": [],
   "source": [
    "bucket = [playlist,album]\n",
    "df_pre,df_post = exp.get_pre_post_df(df,bucket)"
   ]
  },
  {
   "cell_type": "code",
   "execution_count": null,
   "metadata": {},
   "outputs": [],
   "source": [
    "def get_pre_post_non_listeners_df(df):\n",
    "    # split bucket into pre and post\n",
    "    df_pre,df_post = split_pre_post_nonlisteners(df,week=16)\n",
    "    # for each, set the observation period\n",
    "    df_pre = set_observation_period_cg(df,period=7,mode='day')\n",
    "    df_post = set_observation_period_cg(df,period=7,mode='day')\n",
    "    # get stats\n",
    "    df_pre = exp.get_prior_stats(df_pre)\n",
    "    df_post = exp.get_post_stats(df_post)\n",
    "    return df_pre,df_post\n",
    "\n",
    "def split_pre_post_nonlisteners(df,week=16):\n",
    "    '''\n",
    "    split pre & post track based on week chosen\n",
    "    '''\n",
    "    dataframe_after = df[df.week>week]\n",
    "    dataframe_after['is_post'] = 1\n",
    "    dataframe_before = df[df.week<=week]\n",
    "    dataframe_before['is_post'] = 0\n",
    "    return dataframe_before,dataframe_after\n",
    "\n",
    "def set_observation_period_cg(df,period=7,mode='day'):\n",
    "    '''\n",
    "    for control goup (nonlisteners)\n",
    "    '''\n",
    "    df['next_period'] = df[mode].astype('int') + period\n",
    "    df['prev_period'] = df[mode].astype('int') - period\n",
    "    next_Nday = df.groupby('customer_id')['next_period'].min().to_dict()\n",
    "    prev_Nday = df.groupby('customer_id')['prev_period'].min().to_dict()\n",
    "    df['cut_time_lower'] = df['customer_id'].map(prev_Nday)\n",
    "    df['cut_time_upper'] = df['customer_id'].map(next_Nday)\n",
    "    return df"
   ]
  },
  {
   "cell_type": "code",
   "execution_count": null,
   "metadata": {},
   "outputs": [],
   "source": [
    "gc.collect()"
   ]
  },
  {
   "cell_type": "code",
   "execution_count": null,
   "metadata": {},
   "outputs": [],
   "source": [
    "df_pre.head()"
   ]
  },
  {
   "cell_type": "code",
   "execution_count": null,
   "metadata": {},
   "outputs": [],
   "source": [
    "df_pre2.head()"
   ]
  },
  {
   "cell_type": "code",
   "execution_count": null,
   "metadata": {},
   "outputs": [],
   "source": [
    "df_exp['group'].unique()"
   ]
  },
  {
   "cell_type": "code",
   "execution_count": null,
   "metadata": {},
   "outputs": [],
   "source": [
    "df_pre.to_pickle('/project/exp_output/exp_pre_full.pickle')\n",
    "df_post.to_pickle('/project/exp_output/exp_post_full.pickle')"
   ]
  },
  {
   "cell_type": "code",
   "execution_count": null,
   "metadata": {},
   "outputs": [],
   "source": [
    "df_exp = pd.concat([df_pre,df_post],ignore_index=True).drop_duplicates(subset=['customer_id','week'])\n",
    "output = '/project/exp_output/exp_3007.csv'\n",
    "df_exp.to_csv(output,index=False)"
   ]
  },
  {
   "cell_type": "code",
   "execution_count": null,
   "metadata": {},
   "outputs": [],
   "source": [
    "df_exp.head()"
   ]
  },
  {
   "cell_type": "code",
   "execution_count": null,
   "metadata": {},
   "outputs": [],
   "source": [
    "gc.collect()"
   ]
  },
  {
   "cell_type": "markdown",
   "metadata": {},
   "source": [
    "#### data transformation"
   ]
  },
  {
   "cell_type": "markdown",
   "metadata": {},
   "source": [
    "now we have df_exp consist of all streaming history of each customer within their respected discovery channels. To do timeseries analysis, we need to slice the cohort again and then transform the data."
   ]
  },
  {
   "cell_type": "code",
   "execution_count": null,
   "metadata": {},
   "outputs": [],
   "source": [
    "# control groups\n",
    "t_playlist_control = df_exp_control[(df_exp_control.customer_id.isin(df_control_playlist.customer_id))].groupby('week')['weekly_stream_count'].mean()\n",
    "t_album_control = df_exp_control[(df_exp_control.customer_id.isin(df_control_album.customer_id))].groupby('week')['weekly_stream_count'].mean()\n",
    "\n",
    "# treatment groups\n",
    "t_playlist = df_exp[(df_exp.customer_id.isin(playlist.customer_id))].groupby('week')['weekly_stream_count'].mean()\n",
    "t_album = df_exp[(df_exp.customer_id.isin(album.customer_id))].groupby('week')['weekly_stream_count'].mean()\n",
    "\n",
    "df_t = pd.concat([t_album,t_playlist,t_playlist_control, t_album_control],axis=1)\n",
    "df_t.columns = ['album','playlist','playlist_control', 'album_control']\n",
    "df_t = df_t.reset_index()\n"
   ]
  },
  {
   "cell_type": "code",
   "execution_count": null,
   "metadata": {},
   "outputs": [],
   "source": [
    "df_t['treatment_diff'] = df_t.playlist - df_t.album\n",
    "df_t['playlist_effect'] = df_t.playlist - df_t.playlist_control\n",
    "df_t['album_effect'] = df_t.album - df_t.album_control"
   ]
  },
  {
   "cell_type": "code",
   "execution_count": null,
   "metadata": {},
   "outputs": [],
   "source": [
    "df_t"
   ]
  },
  {
   "cell_type": "markdown",
   "metadata": {},
   "source": [
    "#### viz - first look"
   ]
  },
  {
   "cell_type": "code",
   "execution_count": null,
   "metadata": {},
   "outputs": [],
   "source": [
    "sns.set_style('white')\n",
    "plt.figure(figsize=(12,7))\n",
    "ax = plt.subplot()\n",
    "plt.plot( 'week', 'album', data=df_t,  color='darkblue', linewidth=2, label='treatment group')\n",
    "plt.plot( 'week', 'album_control', data=df_t, linestyle='-.', color='orange', linewidth=2, label='control group')\n",
    "plt.xlabel('week',fontsize='large')\n",
    "plt.ylabel('average stream count',fontsize='large')\n",
    "plt.legend(fontsize='large',loc=4)\n",
    "ax.set_ylim([0,30])\n",
    "ax.set_xticks(np.arange(12,23))\n",
    "plt.title('Album Segments Trend Comparison',fontsize=14)\n",
    "plt.savefig('/project/fig/album_trend_plots.png',dpi=150)\n",
    "plt.show()"
   ]
  },
  {
   "cell_type": "code",
   "execution_count": null,
   "metadata": {},
   "outputs": [],
   "source": [
    "sns.set_style('white')\n",
    "plt.figure(figsize=(12,7))\n",
    "ax = plt.subplot()\n",
    "plt.plot( 'week', 'playlist', data=df_t,  color='darkblue', linewidth=2,label='treatment group')\n",
    "plt.plot( 'week', 'playlist_control', data=df_t, linestyle='-.', color='orange', linewidth=2, label='control group')\n",
    "plt.xlabel('week',fontsize='large')\n",
    "plt.legend(fontsize='large',loc=4)\n",
    "ax.set_ylim([0,30])\n",
    "ax.set_xticks(np.arange(12,23))\n",
    "plt.ylabel('average stream count',fontsize='large')\n",
    "plt.title('Playlist Segments Trend Comparison',fontsize=14)\n",
    "plt.savefig('/project/fig/playlist_trend_plots.png',dpi=150)\n",
    "plt.show()"
   ]
  },
  {
   "cell_type": "code",
   "execution_count": null,
   "metadata": {},
   "outputs": [],
   "source": [
    "sns.set_style('white')\n",
    "plt.figure(figsize=(12,7))\n",
    "ax = plt.subplot()\n",
    "plt.plot( 'week', 'album', data=df_t,  color=\"#3498db\", linewidth=2, label='album')\n",
    "plt.plot( 'week', 'playlist', data=df_t, linestyle='--', color=\"#3498db\", linewidth=2, label='playlist')\n",
    "plt.xlabel('week',fontsize='large')\n",
    "plt.ylabel('average stream count',fontsize='large')\n",
    "plt.legend(fontsize='large',loc=4)\n",
    "ax.set_ylim([0,30])\n",
    "ax.set_xticks(np.arange(12,23))\n",
    "plt.title('Treatment Groups Trend Comparison',fontsize=14)\n",
    "plt.savefig('/project/fig/treatments_trend_plots.png',dpi=150)\n",
    "plt.show()"
   ]
  },
  {
   "cell_type": "markdown",
   "metadata": {},
   "source": [
    "#### BETTER PLOTS"
   ]
  },
  {
   "cell_type": "code",
   "execution_count": null,
   "metadata": {},
   "outputs": [],
   "source": [
    "plt.figure()\n",
    "fig, ax = plt.subplots(2, 1, figsize=(14,12))\n",
    "ax[0].plot( 'week', 'album', data=df_t,  color='darkblue', linewidth=2,label='treatment group')\n",
    "ax[0].plot( 'week', 'album_control', data=df_t, linestyle='--', color='orange', linewidth=2, label='control group')\n",
    "ax[1].plot('week', 'album_growth_prcnt', data=df_t,  color=\"darkblue\", linewidth=2, label='album',marker='o')\n",
    "ax[1].plot('week', 'album_control_growth_prcnt', data=df_t, linestyle='--', color=\"orange\", linewidth=2, label='playlist',marker='o')\n",
    "\n",
    "# label, xticks, limit, legend\n",
    "ax[0].set_ylabel('average stream count',fontsize=12)\n",
    "ax[1].set_ylabel('rate of change',fontsize=12)\n",
    "ax[1].set_xlabel('week',fontsize=12)\n",
    "ax[0].set_xticks(np.arange(12,23))\n",
    "ax[1].set_xticks(np.arange(12,23))\n",
    "ax[0].set_ylim([0,30])\n",
    "ax[1].set_ylim([-1,1])\n",
    "plt.setp(ax[0].get_xticklabels(), visible=False)\n",
    "ax[0].tick_params(labelsize=12)\n",
    "ax[1].tick_params(labelsize=12)\n",
    "ax[0].legend(fontsize=13,loc=3)\n",
    "\n",
    "\n",
    "fig.tight_layout()\n",
    "fig.savefig('/project/fig/albums_trend_plots_combined.png',dpi=150)\n"
   ]
  },
  {
   "cell_type": "code",
   "execution_count": null,
   "metadata": {},
   "outputs": [],
   "source": [
    "plt.figure()\n",
    "fig, ax = plt.subplots(2, 1, figsize=(14,12))\n",
    "ax[0].plot( 'week', 'playlist', data=df_t,  color='darkblue', linewidth=2,label='treatment group')\n",
    "ax[0].plot( 'week', 'playlist_control', data=df_t, linestyle='--', color='orange', linewidth=2, label='control group')\n",
    "ax[1].plot('week', 'playlist_growth_prcnt', data=df_t,  color=\"darkblue\", linewidth=2, label='album',marker='o')\n",
    "ax[1].plot('week', 'playlist_control_growth_prcnt', data=df_t, linestyle='--', color=\"orange\", linewidth=2, label='playlist',marker='o')\n",
    "\n",
    "# label, xticks, limit, legend\n",
    "ax[0].set_ylabel('average stream count',fontsize=12)\n",
    "ax[1].set_ylabel('rate of change',fontsize=12)\n",
    "ax[1].set_xlabel('week',fontsize=12)\n",
    "ax[0].set_xticks(np.arange(12,23))\n",
    "ax[1].set_xticks(np.arange(12,23))\n",
    "ax[0].set_ylim([0,30])\n",
    "ax[1].set_ylim([-1,1])\n",
    "plt.setp(ax[0].get_xticklabels(), visible=False)\n",
    "ax[0].tick_params(labelsize=12)\n",
    "ax[1].tick_params(labelsize=12)\n",
    "ax[0].legend(fontsize=13,loc=3)\n",
    "\n",
    "\n",
    "fig.tight_layout()\n",
    "fig.savefig('/project/fig/playlists_trend_plots_combined.png',dpi=150)\n"
   ]
  },
  {
   "cell_type": "markdown",
   "metadata": {},
   "source": [
    "##### using alternative control groups\n",
    "based on cohort after the chosen one"
   ]
  },
  {
   "cell_type": "code",
   "execution_count": null,
   "metadata": {},
   "outputs": [],
   "source": [
    "df_alt_control = pd.read_pickle('/project/exp_output/cohort_18_onwards_for_control.pickle')\n",
    "gc.collect()"
   ]
  },
  {
   "cell_type": "code",
   "execution_count": null,
   "metadata": {},
   "outputs": [],
   "source": [
    "df_alt_control[(df_alt_control.group=='playlist')].groupby('week')['weekly_stream_count'].mean()"
   ]
  },
  {
   "cell_type": "code",
   "execution_count": null,
   "metadata": {},
   "outputs": [],
   "source": [
    "df_t.columns"
   ]
  },
  {
   "cell_type": "code",
   "execution_count": null,
   "metadata": {},
   "outputs": [],
   "source": [
    "df_t.drop(['playlist_control_alt',\n",
    "       'album_control_alt'],axis=1,inplace=True)"
   ]
  },
  {
   "cell_type": "code",
   "execution_count": null,
   "metadata": {},
   "outputs": [],
   "source": [
    "t_playlist_control = df_alt_control[(df_alt_control.group=='playlist')].groupby('week')['weekly_stream_count'].mean()\n",
    "t_album_control = df_alt_control[(df_alt_control.group=='album')].groupby('week')['weekly_stream_count'].mean()\n",
    "t_album_control"
   ]
  },
  {
   "cell_type": "code",
   "execution_count": null,
   "metadata": {},
   "outputs": [],
   "source": [
    "t_playlist_control.reset_index()"
   ]
  },
  {
   "cell_type": "code",
   "execution_count": null,
   "metadata": {},
   "outputs": [],
   "source": [
    "t_album_control.reset_index()"
   ]
  },
  {
   "cell_type": "code",
   "execution_count": null,
   "metadata": {},
   "outputs": [],
   "source": [
    "# append to df_t\n",
    "t_album_control = df_alt_control[(df_alt_control.group=='album')].groupby('week')['weekly_stream_count'].mean().reset_index()\n",
    "\n",
    "df_t = df_t.merge(t_album_control, on='week', how='left')\n",
    "df_t.rename(columns={ 'weekly_stream_count': \"album_control_alt\"},inplace=True)\n",
    "df_t\n"
   ]
  },
  {
   "cell_type": "code",
   "execution_count": null,
   "metadata": {},
   "outputs": [],
   "source": [
    "df_t['album_effect_alt'] = df_t.album - df_t.album_control_alt"
   ]
  },
  {
   "cell_type": "code",
   "execution_count": null,
   "metadata": {},
   "outputs": [],
   "source": [
    "df_t = get_weekly_growth(df_t, 'album_control_alt')\n",
    "df_t = df_t.iloc[:11]"
   ]
  },
  {
   "cell_type": "code",
   "execution_count": null,
   "metadata": {},
   "outputs": [],
   "source": [
    "df_t.fillna(0,inplace=True)\n",
    "df_t"
   ]
  },
  {
   "cell_type": "code",
   "execution_count": null,
   "metadata": {},
   "outputs": [],
   "source": [
    "plt.figure()\n",
    "fig, ax = plt.subplots(2, 1, figsize=(14,12))\n",
    "ax[0].plot( 'week', 'album', data=df_t,  color='darkblue', linewidth=2,label='treatment group')\n",
    "ax[0].plot( 'week', 'album_control_alt', data=df_t, linestyle='--', color='orange', linewidth=2, label='control group')\n",
    "ax[1].plot('week', 'album_growth_prcnt', data=df_t,  color=\"darkblue\", linewidth=2, label='album',marker='o')\n",
    "ax[1].plot('week', 'album_control_alt_growth_prcnt', data=df_t, linestyle='--', color=\"orange\", linewidth=2, label='playlist',marker='o')\n",
    "\n",
    "# label, xticks, limit, legend\n",
    "ax[0].set_ylabel('average stream count',fontsize=12)\n",
    "ax[1].set_ylabel('rate of change',fontsize=12)\n",
    "ax[1].set_xlabel('week',fontsize=12)\n",
    "ax[0].set_xticks(np.arange(12,23))\n",
    "ax[1].set_xticks(np.arange(12,23))\n",
    "ax[0].set_ylim([0,30])\n",
    "ax[1].set_ylim([-1,1])\n",
    "plt.setp(ax[0].get_xticklabels(), visible=False)\n",
    "ax[0].tick_params(labelsize=12)\n",
    "ax[1].tick_params(labelsize=12)\n",
    "ax[0].legend(fontsize=13,loc=3)\n",
    "\n",
    "\n",
    "fig.tight_layout()\n",
    "fig.savefig('/project/fig/album_alt_trend_plots_combined.png',dpi=150)\n"
   ]
  },
  {
   "cell_type": "markdown",
   "metadata": {},
   "source": [
    "---"
   ]
  },
  {
   "cell_type": "code",
   "execution_count": null,
   "metadata": {},
   "outputs": [],
   "source": [
    "plt.figure()\n",
    "fig, ax = plt.subplots(2, 1, figsize=(14,12))\n",
    "ax[0].plot( 'week', 'album', data=df_t,  color=\"#3498db\", linewidth=2, label='album')\n",
    "ax[0].plot( 'week', 'playlist', data=df_t, linestyle='--', color=\"#3498db\", linewidth=2, label='playlist')\n",
    "ax[1].plot('week', 'album_growth_prcnt', data=df_t,  color=\"#3498db\", linewidth=2, label='album',marker='o')\n",
    "plt.plot('week', 'playlist_growth_prcnt', data=df_t, linestyle='--', color=\"#3498db\", linewidth=2, label='playlist',marker='o')\n",
    "\n",
    "# label, xticks, limit, legend\n",
    "ax[0].set_ylabel('average stream count',fontsize=12)\n",
    "ax[1].set_ylabel('rate of change',fontsize=12)\n",
    "ax[1].set_xlabel('week',fontsize=12)\n",
    "ax[0].set_xticks(np.arange(12,23))\n",
    "ax[1].set_xticks(np.arange(12,23))\n",
    "ax[0].set_ylim([0,30])\n",
    "ax[1].set_ylim([-1,1])\n",
    "plt.setp(ax[0].get_xticklabels(), visible=False)\n",
    "ax[0].tick_params(labelsize=12)\n",
    "ax[1].tick_params(labelsize=12)\n",
    "ax[0].legend(fontsize=13,loc=3)\n",
    "\n",
    "\n",
    "fig.tight_layout()\n",
    "fig.savefig('/project/fig/treatments_trend_plots_combined.png',dpi=150)\n"
   ]
  },
  {
   "cell_type": "markdown",
   "metadata": {},
   "source": [
    "from visual inspection, the trends (more importantly until week 16, which is our track-discovery week) looks paralel. Now lets do t-test to confirm"
   ]
  },
  {
   "cell_type": "markdown",
   "metadata": {},
   "source": [
    "#### statistical analysis with t-test"
   ]
  },
  {
   "cell_type": "code",
   "execution_count": null,
   "metadata": {},
   "outputs": [],
   "source": [
    "# calculate week-to-week changes in each cohort\n",
    "def get_weekly_growth(df_t, col_name):\n",
    "    unit_col_name = str(col_name + '_growth_unit')\n",
    "    prcnt_col_name = str(col_name + '_growth_prcnt')\n",
    "    df_t[unit_col_name] = df_t[col_name].diff()\n",
    "    df_t[prcnt_col_name] = df_t[col_name].pct_change()\n",
    "    return df_t"
   ]
  },
  {
   "cell_type": "code",
   "execution_count": null,
   "metadata": {},
   "outputs": [],
   "source": [
    "df_t = get_weekly_growth(df_t, 'album')\n",
    "df_t = get_weekly_growth(df_t, 'playlist')\n",
    "df_t = get_weekly_growth(df_t, 'album_control')\n",
    "df_t = get_weekly_growth(df_t, 'playlist_control')\n",
    "df_t"
   ]
  },
  {
   "cell_type": "code",
   "execution_count": null,
   "metadata": {},
   "outputs": [],
   "source": [
    "df_t.to_csv('/project/exp_output/df_t.csv',index=False)"
   ]
  },
  {
   "cell_type": "code",
   "execution_count": null,
   "metadata": {},
   "outputs": [],
   "source": [
    "df_t = pd.read_csv('/project/exp_output/df_t.csv',index_col=False)\n",
    "df_t"
   ]
  },
  {
   "cell_type": "code",
   "execution_count": null,
   "metadata": {},
   "outputs": [],
   "source": [
    "df_t.fillna(0,inplace=True)"
   ]
  },
  {
   "cell_type": "code",
   "execution_count": null,
   "metadata": {},
   "outputs": [],
   "source": [
    "gc.collect()"
   ]
  },
  {
   "cell_type": "code",
   "execution_count": null,
   "metadata": {},
   "outputs": [],
   "source": [
    "df_t.to_csv('/project/exp_output/df_t_new_2.csv',index=False)"
   ]
  },
  {
   "cell_type": "code",
   "execution_count": null,
   "metadata": {},
   "outputs": [],
   "source": [
    "df_t"
   ]
  },
  {
   "cell_type": "markdown",
   "metadata": {},
   "source": [
    "**we only have week 12-15 as pre-event period. So we're gonna run t-test of average growth during 3 pre-event periods (df=2, alpha =0.05).**"
   ]
  },
  {
   "cell_type": "markdown",
   "metadata": {},
   "source": [
    "between playlist treatment - control"
   ]
  },
  {
   "cell_type": "code",
   "execution_count": null,
   "metadata": {},
   "outputs": [],
   "source": [
    "df_t[['week','playlist_growth_prcnt','playlist_control_growth_prcnt']].iloc[1:4]"
   ]
  },
  {
   "cell_type": "code",
   "execution_count": null,
   "metadata": {},
   "outputs": [],
   "source": [
    "treatment_growth = df_t.playlist_growth_prcnt.tolist()[1:4]\n",
    "control_growth = df_t.playlist_control_growth_prcnt.tolist()[1:4]\n",
    "stats.ttest_ind(treatment_growth,control_growth,equal_var = False)"
   ]
  },
  {
   "cell_type": "markdown",
   "metadata": {},
   "source": [
    "between album treatment - control"
   ]
  },
  {
   "cell_type": "code",
   "execution_count": null,
   "metadata": {},
   "outputs": [],
   "source": [
    "df_t[['week','album_growth_prcnt','album_control_alt_growth_prcnt']].iloc[1:4]"
   ]
  },
  {
   "cell_type": "code",
   "execution_count": null,
   "metadata": {},
   "outputs": [],
   "source": [
    "treatment_growth = df_t.album_growth_prcnt.tolist()[1:4]\n",
    "control_growth = df_t.album_control_alt_growth_prcnt.tolist()[1:4]\n",
    "stats.ttest_ind(treatment_growth,control_growth)"
   ]
  },
  {
   "cell_type": "markdown",
   "metadata": {},
   "source": [
    "between album & playlist"
   ]
  },
  {
   "cell_type": "code",
   "execution_count": null,
   "metadata": {},
   "outputs": [],
   "source": [
    "df_t.playlist_growth_prcnt.tolist()[1:4]"
   ]
  },
  {
   "cell_type": "code",
   "execution_count": null,
   "metadata": {},
   "outputs": [],
   "source": [
    "treatment_pl = df_t.playlist_growth_prcnt.tolist()[1:4]\n",
    "treatment_al = df_t.album_growth_prcnt.tolist()[1:4]\n",
    "stats.ttest_ind(treatment_pl,treatment_al,equal_var = False)"
   ]
  },
  {
   "cell_type": "markdown",
   "metadata": {},
   "source": [
    "** based on the t-test result, we can conclude the average growth between each pairs are equal (accept H0) **"
   ]
  },
  {
   "cell_type": "markdown",
   "metadata": {},
   "source": [
    "### track engagement / repeat plays -> irrelevant for parallel trend checking"
   ]
  },
  {
   "cell_type": "markdown",
   "metadata": {},
   "source": [
    "for this metric we can only compare treatment effects (no control group of non-listeners)"
   ]
  },
  {
   "cell_type": "code",
   "execution_count": null,
   "metadata": {},
   "outputs": [],
   "source": [
    "TRACK_ID = 'f72fa60c8d9848a393d8ac4bbaa866ef'"
   ]
  },
  {
   "cell_type": "code",
   "execution_count": null,
   "metadata": {},
   "outputs": [],
   "source": [
    "df = pd.read_pickle('/project/samples/new/sample_mixed_105k_cleaned2.pickle')"
   ]
  },
  {
   "cell_type": "code",
   "execution_count": null,
   "metadata": {},
   "outputs": [],
   "source": [
    "# use only track population\n",
    "df = df[df.track_id==TRACK_ID]"
   ]
  },
  {
   "cell_type": "code",
   "execution_count": null,
   "metadata": {},
   "outputs": [],
   "source": [
    "gc.collect()"
   ]
  },
  {
   "cell_type": "markdown",
   "metadata": {},
   "source": [
    "#### data preparation"
   ]
  },
  {
   "cell_type": "code",
   "execution_count": null,
   "metadata": {},
   "outputs": [],
   "source": [
    "df = set_cohort_group(df)"
   ]
  },
  {
   "cell_type": "code",
   "execution_count": null,
   "metadata": {},
   "outputs": [],
   "source": [
    "# pick only cohort week 16\n",
    "df = df[df.cohort_group=='16']"
   ]
  },
  {
   "cell_type": "code",
   "execution_count": null,
   "metadata": {},
   "outputs": [],
   "source": [
    "# get album & playlist customer\n",
    "album_cust = df[df.first_stream_source=='album'].customer_id.unique()\n",
    "pl_cust = df[df.first_stream_source=='others_playlist'].customer_id.unique()"
   ]
  },
  {
   "cell_type": "code",
   "execution_count": null,
   "metadata": {},
   "outputs": [],
   "source": [
    "len(album_cust), len(pl_cust)"
   ]
  },
  {
   "cell_type": "code",
   "execution_count": null,
   "metadata": {},
   "outputs": [],
   "source": [
    "album = df[df.customer_id.isin(album_cust)]\n",
    "playlist = df[df.customer_id.isin(pl_cust)]"
   ]
  },
  {
   "cell_type": "markdown",
   "metadata": {},
   "source": [
    "#### feature engineering"
   ]
  },
  {
   "cell_type": "code",
   "execution_count": null,
   "metadata": {},
   "outputs": [],
   "source": [
    "# get weekly stream count\n",
    "playlist = exp.get_avg_stream_count(playlist,mode='week')\n",
    "album = exp.get_avg_stream_count(album,mode='week')"
   ]
  },
  {
   "cell_type": "code",
   "execution_count": null,
   "metadata": {},
   "outputs": [],
   "source": [
    "bucket = [playlist,album]\n",
    "df_pre,df_post = exp.get_pre_post_df(df,bucket)"
   ]
  },
  {
   "cell_type": "code",
   "execution_count": null,
   "metadata": {},
   "outputs": [],
   "source": [
    "gc.collect()"
   ]
  },
  {
   "cell_type": "code",
   "execution_count": null,
   "metadata": {},
   "outputs": [],
   "source": [
    "df_exp = pd.concat([df_pre,df_post],ignore_index=True).drop_duplicates(subset=['customer_id','week'])\n",
    "output = '/project/exp_output/exp_track_engagement_3107.csv'\n",
    "df_exp.to_csv(output,index=False)"
   ]
  },
  {
   "cell_type": "markdown",
   "metadata": {},
   "source": [
    "#### data transformation"
   ]
  },
  {
   "cell_type": "code",
   "execution_count": null,
   "metadata": {},
   "outputs": [],
   "source": [
    "# treatment groups\n",
    "t_playlist = df_exp[(df_exp.customer_id.isin(playlist.customer_id))].groupby('week')['weekly_stream_count'].mean()\n",
    "t_album = df_exp[(df_exp.customer_id.isin(album.customer_id))].groupby('week')['weekly_stream_count'].mean()\n",
    "\n",
    "df_t = pd.concat([t_album,t_playlist],axis=1)\n",
    "df_t.columns = ['album','playlist']\n",
    "df_t = df_t.reset_index()\n"
   ]
  },
  {
   "cell_type": "code",
   "execution_count": null,
   "metadata": {},
   "outputs": [],
   "source": [
    "df_t['treatment_diff'] = df_t.playlist - df_t.album\n",
    "df_t"
   ]
  },
  {
   "cell_type": "markdown",
   "metadata": {},
   "source": [
    "#### viz"
   ]
  },
  {
   "cell_type": "code",
   "execution_count": null,
   "metadata": {},
   "outputs": [],
   "source": [
    "sns.set_style('white')\n",
    "plt.figure(figsize=(12,7))\n",
    "plt.plot( 'week', 'album', data=df_t,  color=\"#3498db\", linewidth=2, label='album')\n",
    "plt.plot( 'week', 'playlist', data=df_t, linestyle='--', color=\"#3498db\", linewidth=2, label='playlist')\n",
    "plt.xlabel('week',fontsize='large')\n",
    "plt.ylabel('average stream count',fontsize='large')\n",
    "plt.legend(fontsize='large',loc=1)\n",
    "plt.title('Post-discovery Treatment Comparison',fontsize=14)\n",
    "plt.savefig('/project/fig/treatments_trend_plots_track.png',dpi=150)\n",
    "plt.show()"
   ]
  },
  {
   "cell_type": "markdown",
   "metadata": {},
   "source": [
    "looks like the effect only holds until week 17. After that it's showing consistent result with cohort analysis - track engagement rate. \n",
    "Based on this we can pick just 1-2 weeks for post-discovery period for DID estimation. Beyond that we wont get meaningful insights since the effect would have gone."
   ]
  },
  {
   "cell_type": "code",
   "execution_count": null,
   "metadata": {},
   "outputs": [],
   "source": [
    "df_t.to_csv('/project/exp_output/df_t_track_engagement.csv',index=False)"
   ]
  },
  {
   "cell_type": "markdown",
   "metadata": {},
   "source": [
    "Noise investigation for playlist control group"
   ]
  },
  {
   "cell_type": "code",
   "execution_count": null,
   "metadata": {},
   "outputs": [],
   "source": [
    "df_exp_control"
   ]
  },
  {
   "cell_type": "code",
   "execution_count": null,
   "metadata": {},
   "outputs": [],
   "source": [
    "t_playlist_control = df_exp_control[(df_exp_control.group=='playlist')].groupby('week')['weekly_stream_count'].mean()\n",
    "t_playlist_control"
   ]
  },
  {
   "cell_type": "code",
   "execution_count": null,
   "metadata": {},
   "outputs": [],
   "source": [
    "# make sure no overlap with playlist customers\n",
    "df_exp_control[(df_exp_control.group=='playlist')]"
   ]
  },
  {
   "cell_type": "code",
   "execution_count": null,
   "metadata": {},
   "outputs": [],
   "source": [
    "playlist['treated'] = 1"
   ]
  },
  {
   "cell_type": "code",
   "execution_count": null,
   "metadata": {},
   "outputs": [],
   "source": [
    "playlist.to_pickle('/project/exp_output/paylist_treatment_did_all_vars.pickle')"
   ]
  },
  {
   "cell_type": "code",
   "execution_count": null,
   "metadata": {},
   "outputs": [],
   "source": [
    "album['treated'] = 1"
   ]
  },
  {
   "cell_type": "code",
   "execution_count": null,
   "metadata": {},
   "outputs": [],
   "source": [
    "album.to_pickle('/project/exp_output/album_treatment_did_all_vars.pickle')"
   ]
  },
  {
   "cell_type": "code",
   "execution_count": null,
   "metadata": {},
   "outputs": [],
   "source": [
    "album_control_alt = df_alt_control[(df_alt_control.group=='album')]"
   ]
  },
  {
   "cell_type": "code",
   "execution_count": null,
   "metadata": {},
   "outputs": [],
   "source": [
    "album_control_alt['treated'] = 0"
   ]
  },
  {
   "cell_type": "code",
   "execution_count": null,
   "metadata": {},
   "outputs": [],
   "source": [
    "album_control_alt.to_pickle('/project/exp_output/album_control_did_all_vars.pickle')"
   ]
  },
  {
   "cell_type": "code",
   "execution_count": null,
   "metadata": {},
   "outputs": [],
   "source": [
    "playlist_control = df_exp_control[df_exp_control.group=='playlist']"
   ]
  },
  {
   "cell_type": "code",
   "execution_count": null,
   "metadata": {},
   "outputs": [],
   "source": [
    "playlist_control['treated'] = 0"
   ]
  },
  {
   "cell_type": "code",
   "execution_count": null,
   "metadata": {},
   "outputs": [],
   "source": [
    "playlist_control.to_pickle('/project/exp_output/playlist_control_did_all_vars.pickle')"
   ]
  },
  {
   "cell_type": "code",
   "execution_count": null,
   "metadata": {},
   "outputs": [],
   "source": [
    "gc.collect()"
   ]
  },
  {
   "cell_type": "code",
   "execution_count": null,
   "metadata": {},
   "outputs": [],
   "source": [
    "album_control_alt.drop_duplicates(subset='customer_id').week.value_counts()"
   ]
  },
  {
   "cell_type": "code",
   "execution_count": null,
   "metadata": {},
   "outputs": [],
   "source": [
    "df_non = pd.read_pickle('/project/data/exp_non_filtered_final_inchart.pickle')"
   ]
  },
  {
   "cell_type": "code",
   "execution_count": null,
   "metadata": {},
   "outputs": [],
   "source": [
    "df_non.drop_duplicates(subset='customer_id').group.value_counts()"
   ]
  },
  {
   "cell_type": "code",
   "execution_count": null,
   "metadata": {},
   "outputs": [],
   "source": [
    "gc.collect()"
   ]
  },
  {
   "cell_type": "code",
   "execution_count": null,
   "metadata": {},
   "outputs": [],
   "source": [
    "df_non = df_non[df_non.group=='playlist']"
   ]
  },
  {
   "cell_type": "code",
   "execution_count": null,
   "metadata": {},
   "outputs": [],
   "source": [
    "df_non.week.value_counts().sort_values()"
   ]
  },
  {
   "cell_type": "code",
   "execution_count": null,
   "metadata": {},
   "outputs": [],
   "source": [
    "df_non.drop_duplicates(subset=['customer_id','week']).week.value_counts().sort_values()"
   ]
  },
  {
   "cell_type": "code",
   "execution_count": null,
   "metadata": {},
   "outputs": [],
   "source": [
    "df_non."
   ]
  },
  {
   "cell_type": "code",
   "execution_count": null,
   "metadata": {},
   "outputs": [],
   "source": [
    "sample = resample(df_non[df_non.week==16].drop_duplicates(subset='customer_id').customer_id,n_samples=10700, replace=False)"
   ]
  },
  {
   "cell_type": "code",
   "execution_count": null,
   "metadata": {},
   "outputs": [],
   "source": [
    "df_non = df_non[df_non.customer_id.isin(sample)]\n",
    "df_non.drop_duplicates(subset=['customer_id','week']).week.value_counts().sort_values()"
   ]
  },
  {
   "cell_type": "code",
   "execution_count": null,
   "metadata": {},
   "outputs": [],
   "source": [
    "df_non.customer_id.nunique()"
   ]
  },
  {
   "cell_type": "code",
   "execution_count": null,
   "metadata": {},
   "outputs": [],
   "source": [
    "[x/y for x, y in zip(t_s, n_c)]"
   ]
  },
  {
   "cell_type": "code",
   "execution_count": null,
   "metadata": {},
   "outputs": [],
   "source": [
    "# playlist treatment group\n",
    "treatment = pd.read_pickle('/project/exp_output/paylist_treatment_did_all_vars.pickle')"
   ]
  },
  {
   "cell_type": "code",
   "execution_count": null,
   "metadata": {},
   "outputs": [],
   "source": [
    "treatment.head()"
   ]
  },
  {
   "cell_type": "code",
   "execution_count": null,
   "metadata": {},
   "outputs": [],
   "source": [
    "df_non = df_non.drop(['weekly_stream_count'],axis=1)"
   ]
  },
  {
   "cell_type": "code",
   "execution_count": null,
   "metadata": {},
   "outputs": [],
   "source": [
    "gc.collect()"
   ]
  },
  {
   "cell_type": "code",
   "execution_count": null,
   "metadata": {},
   "outputs": [],
   "source": [
    "df_non.columns"
   ]
  },
  {
   "cell_type": "code",
   "execution_count": null,
   "metadata": {},
   "outputs": [],
   "source": [
    "def get_avg_stream_count(df,mode='week'):\n",
    "    # either for before of after, with day and week as mode\n",
    "    # input either post or pre df\n",
    "    count = df.groupby(['customer_id',mode])['index'].count().reset_index()\n",
    "    col_name = str(mode+'ly_stream_count')\n",
    "    count.rename(columns={'index':col_name},inplace=True)\n",
    "    df = df.merge(count, on=['customer_id',mode], how='left')\n",
    "    return df\n",
    "df_non =get_avg_stream_count(df_non,mode='week')"
   ]
  },
  {
   "cell_type": "code",
   "execution_count": null,
   "metadata": {},
   "outputs": [],
   "source": []
  },
  {
   "cell_type": "code",
   "execution_count": null,
   "metadata": {},
   "outputs": [],
   "source": [
    "# control groups\n",
    "t_playlist_control = df_control_playlist.drop_duplicates(subset=['customer_id','week']).groupby('week')['weekly_stream_count'].mean()\n",
    "\n",
    "# treatment groups\n",
    "t_playlist = treatment.drop_duplicates(subset=['customer_id','week']).groupby('week')['weekly_stream_count'].mean()\n",
    "\n",
    "df_t = pd.concat([t_playlist,t_playlist_control],axis=1)\n",
    "df_t.columns = ['playlist','playlist_control']\n",
    "df_t = df_t.reset_index()\n",
    "df_t[['week','playlist_control']]"
   ]
  },
  {
   "cell_type": "code",
   "execution_count": null,
   "metadata": {},
   "outputs": [],
   "source": [
    "%matplotlib inline"
   ]
  },
  {
   "cell_type": "code",
   "execution_count": null,
   "metadata": {},
   "outputs": [],
   "source": [
    "import numpy as np\n",
    "import matplotlib.pyplot as plt\n",
    "import seaborn as sns\n",
    "import pandas as pd\n",
    " \n",
    "# Make data\n",
    "\n",
    "channel = [15.31,15.20,14.25,14.51,13.81,15.42]\n",
    "channels = [27.24, 26.34,25.56,26.42,25.63,26.78]\n",
    "others = [round(a-b,2) for a,b in zip(channels,channel)]\n",
    "others"
   ]
  },
  {
   "cell_type": "code",
   "execution_count": null,
   "metadata": {},
   "outputs": [],
   "source": [
    "data = pd.DataFrame({ 'c':channel, 'others':others }, index=range(1,7))\n",
    "\n"
   ]
  },
  {
   "cell_type": "code",
   "execution_count": null,
   "metadata": {},
   "outputs": [],
   "source": [
    "data"
   ]
  },
  {
   "cell_type": "code",
   "execution_count": null,
   "metadata": {},
   "outputs": [],
   "source": [
    "plt.figure(figsize=(8,8))\n",
    "pal = [\"#009086\", \"#002B3C\"]\n",
    "x=range(1,7)\n",
    "y=[ channel,others]\n",
    "\n",
    "plt.stackplot(x,y, labels=[\"customer's own discovery channel\",'other streams within discovery channel lists'],colors=pal)\n",
    "plt.legend(loc='upper left',fontsize='large')\n",
    "plt.title('share of ')\n",
    "plt.ylim(0,35)\n",
    "plt.show()\n",
    "\n"
   ]
  },
  {
   "cell_type": "code",
   "execution_count": null,
   "metadata": {},
   "outputs": [],
   "source": [
    "#transform the data from raw data to percentage (fraction)\n",
    "data_perc = data.divide(channels,axis=0)\n",
    " \n",
    "# Make the plot\n",
    "plt.figure(figsize=(8,8))\n",
    "colors=pal\n",
    "plt.stackplot(range(1,7),  data_perc[\"c\"],  data_perc[\"others\"],  labels=[\"customer's own discovery channel\",'other streams within discovery channel lists'],colors=pal)\n",
    "plt.legend(loc=4,fontsize=12)\n",
    "plt.margins(0,0)\n",
    "plt.title(\"Share of Stream Count within Playlist Customer's Discovery Channel\",fontsize=13)\n",
    "plt.ylabel('share (%)',fontsize=12)\n",
    "plt.xlabel('week after track discovery',fontsize=12)\n",
    "plt.show()\n"
   ]
  },
  {
   "cell_type": "code",
   "execution_count": null,
   "metadata": {},
   "outputs": [],
   "source": [
    "channel = [6.26,4.68,3.68,3.31,3.01,2.76]\n",
    "channels = [20.62,20.20,19.85,21.27,21.36,21.6]\n",
    "others = [round(a-b,2) for a,b in zip(channels,channel)]\n",
    "others"
   ]
  },
  {
   "cell_type": "code",
   "execution_count": null,
   "metadata": {},
   "outputs": [],
   "source": [
    "data = pd.DataFrame({ 'c':channel, 'others':others }, index=range(1,7))\n",
    "\n",
    "\n",
    "data_perc = data.divide(channels,axis=0)\n",
    " \n",
    "# Make the plot\n",
    "plt.figure(figsize=(8,8))\n",
    "colors=pal\n",
    "plt.stackplot(range(1,7),  data_perc[\"c\"],  data_perc[\"others\"],  labels=[\"customer's own discovery channel\",'other streams within discovery channel lists'],colors=pal)\n",
    "plt.legend(loc=4,fontsize=12)\n",
    "plt.margins(0,0)\n",
    "plt.title(\"Share of Stream Count within Album Customer's Discovery Channel\",fontsize=13)\n",
    "plt.ylabel('share (%)',fontsize=12)\n",
    "plt.xlabel('week after track discovery',fontsize=12)\n",
    "plt.show()\n"
   ]
  },
  {
   "cell_type": "code",
   "execution_count": null,
   "metadata": {},
   "outputs": [],
   "source": []
  },
  {
   "cell_type": "code",
   "execution_count": null,
   "metadata": {},
   "outputs": [],
   "source": [
    "\n",
    "pal = [\"#009086\", \"#002B3C\"]\n",
    "x=range(1,7)\n",
    "y=[ channel,others]\n",
    "\n",
    "plt.stackplot(x,y, labels=[\"customer's own discovery channel\",'other streams within discovery channel lists'],colors=pal)\n",
    "plt.legend(loc='upper left')\n",
    "plt.show()\n",
    "\n"
   ]
  },
  {
   "cell_type": "code",
   "execution_count": null,
   "metadata": {},
   "outputs": [],
   "source": []
  }
 ],
 "metadata": {
  "kernelspec": {
   "display_name": "Python 3",
   "language": "python",
   "name": "python3"
  },
  "language_info": {
   "codemirror_mode": {
    "name": "ipython",
    "version": 3
   },
   "file_extension": ".py",
   "mimetype": "text/x-python",
   "name": "python",
   "nbconvert_exporter": "python",
   "pygments_lexer": "ipython3",
   "version": "3.6.4"
  }
 },
 "nbformat": 4,
 "nbformat_minor": 2
}
