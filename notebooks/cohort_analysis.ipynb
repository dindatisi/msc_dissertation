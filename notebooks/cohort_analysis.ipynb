{
 "cells": [
  {
   "cell_type": "code",
   "execution_count": null,
   "metadata": {},
   "outputs": [],
   "source": [
    "import pandas as pd\n",
    "import random\n",
    "import numpy as np\n",
    "from operator import itemgetter\n",
    "from collections import Counter\n",
    "import datetime\n",
    "from scipy import interp\n",
    "import warnings\n",
    "warnings.filterwarnings('ignore')\n",
    "import gc\n",
    "\n",
    "# Visualization\n",
    "import seaborn as sns\n",
    "import matplotlib.pyplot as plt\n",
    "%matplotlib inline"
   ]
  },
  {
   "cell_type": "code",
   "execution_count": null,
   "metadata": {},
   "outputs": [],
   "source": [
    "# COHORT ANALYSIS\n",
    "def set_cohort_group(df,mode='week'):\n",
    "    '''\n",
    "    Identify cohort group based on date of first streaming\n",
    "    '''\n",
    "    df['id'] = df['customer_id']\n",
    "    df = df.set_index('id')\n",
    "    # customer first & last day\n",
    "    if mode=='week':\n",
    "        df['first_listen'] = df.groupby(level=0)['week'].min()\n",
    "        df['last_listen'] = df.groupby(level=0)['week'].max()\n",
    "    elif mode=='day':\n",
    "        df['first_listen'] = df.groupby(level=0)['day'].min()\n",
    "        df['last_listen'] = df.groupby(level=0)['day'].max()\n",
    "    df['cohort_group'] = df['first_listen']\n",
    "    df['cohort_group'] = df['cohort_group'].astype('str')\n",
    "    df = df.reset_index()\n",
    "    return df\n",
    "\n",
    "def cohort_period(df):\n",
    "    df['cohort_period'] = np.arange(len(df)) + 1\n",
    "    return df\n",
    "\n",
    "def get_cohort_table(df,mode='week'):\n",
    "    if mode=='week':\n",
    "        grouped = df.groupby(['cohort_group','week'])\n",
    "    elif mode=='day':\n",
    "        grouped = df.groupby(['cohort_group','date'])\n",
    "    \n",
    "    df['customer_id2'] = df.customer_id # duplicate variable as dummy for stream count\n",
    "    cohort = grouped.agg({'customer_id': pd.Series.nunique,'customer_id2': pd.Series.count})\n",
    "    # rename columns\n",
    "    cohort.rename(columns = {'customer_id': 'total_customers','customer_id2': 'total_stream_count'},inplace=True)\n",
    "    return cohort\n",
    "\n",
    "def get_cohort(df):\n",
    "    grouped = df.groupby(['cohort_group'])\n",
    "    cohort = grouped.agg({'customer_id': pd.Series.nunique,'user_stream_count': pd.Series.unique})\n",
    "    # rename columns\n",
    "    cohort.rename(columns = {'customer_id': 'total_customers','user_stream_count': 'total_streams'},inplace=True)\n",
    "    return cohort\n",
    "\n",
    "def get_retention(cohorts):\n",
    "    # reindex the DataFrame \n",
    "    cohorts.reset_index(inplace=True)\n",
    "    cohorts.set_index(['cohort_group', 'cohort_period'], inplace=True)\n",
    "    cohort_group_size = cohorts['total_customers'].groupby(level=0).first()\n",
    "    user_retention = cohorts['total_customers'].unstack(0).divide(cohort_group_size, axis=1)\n",
    "    return user_retention\n",
    "\n",
    "def export_retention_chart(retention,show_plot=False,save=True):\n",
    "    sns.set(style='white', font_scale=1)\n",
    "    fig = plt.figure(figsize=(14, 6))\n",
    "    plt.title('Cohorts Analysis: Listeners of \"See You Again\" Retention')\n",
    "    chart = sns.heatmap(retention.T, mask=retention.T.isnull(), annot=True, fmt='.0%',cmap='Blues');\n",
    "    chart.set_ylabel('Cohort Group (First Week)') \n",
    "    chart.set_xlabel('Cohort Period (Week After Finding the Track)') \n",
    "    if show_plot==True:\n",
    "        plt.show()\n",
    "    if save==True:\n",
    "        fig.savefig('retention.png', dpi=150)\n",
    "    \n",
    "def cohort_analysis(df,show_plot=False,mode='week'):\n",
    "    df = set_cohort_group(df,mode=mode)\n",
    "    cohort = get_cohort_table(df,mode=mode)\n",
    "    cohort = cohort.groupby(level=0).apply(cohort_period)\n",
    "    ret = get_retention(cohort)\n",
    "    export_retention_chart(ret,show_plot=show_plot)\n",
    "    return ret, cohort \n",
    "\n",
    "def compare_cohort_retention(cohort_name_list,ret_list):\n",
    "    # prepare viz\n",
    "    sns.set(style='white', font_scale=1)\n",
    "    plt.figure(figsize=(10,5))\n",
    "    fig, ax = plt.subplots(figsize=(10,6))\n",
    "    frames = dict(zip(cohort_name_list, ret_list))\n",
    "    ax.set_prop_cycle('color',plt.cm.tab10(np.linspace(0,1,9)))\n",
    "\n",
    "    for k,v in frames.items():\n",
    "        ax.plot(v[['1']],label=k)\n",
    "\n",
    "    legend = ax.legend(loc=1, shadow=True, fontsize='large')\n",
    "\n",
    "    # Put a nicer background color on the legend.\n",
    "    legend.get_frame().set_facecolor('#00FFCC')\n",
    "    plt.title('Cohorts: Listeners Retention')\n",
    "    plt.xticks(np.arange(1, 13.1, 1))\n",
    "    plt.xlim(1, 13)\n",
    "    plt.ylabel('Retention Rate');\n",
    "    plt.xlabel('Cohort Period (Week)')\n",
    "    plt.show()\n",
    "\n",
    "    \n",
    "def clean_for_source(row):\n",
    "    if row['first_stream_source'] =='album':\n",
    "        return row['track_album']\n",
    "    elif row['first_stream_source'] =='others_playlist':\n",
    "        return None\n",
    "    \n",
    "def clean_for_source_pl(row):\n",
    "    if row['first_stream_source'] =='album':\n",
    "        return None\n",
    "    elif row['first_stream_source'] =='others_playlist':\n",
    "        return row['track_playlist']"
   ]
  },
  {
   "cell_type": "code",
   "execution_count": null,
   "metadata": {},
   "outputs": [],
   "source": [
    "TRACK_ID = 'f72fa60c8d9848a393d8ac4bbaa866ef'"
   ]
  },
  {
   "cell_type": "code",
   "execution_count": null,
   "metadata": {},
   "outputs": [],
   "source": [
    "df = pd.read_pickle('/project/samples/new/sample_mixed_105k_cleaned2.pickle')"
   ]
  },
  {
   "cell_type": "code",
   "execution_count": null,
   "metadata": {},
   "outputs": [],
   "source": [
    "# use only track population\n",
    "df = df[df.track_id==TRACK_ID]"
   ]
  },
  {
   "cell_type": "code",
   "execution_count": null,
   "metadata": {},
   "outputs": [],
   "source": [
    "gc.collect()"
   ]
  },
  {
   "cell_type": "markdown",
   "metadata": {},
   "source": [
    "## Cohort Analysis"
   ]
  },
  {
   "cell_type": "markdown",
   "metadata": {},
   "source": [
    "### Retention - How likely are they to keep listening \"See You Again?\""
   ]
  },
  {
   "cell_type": "code",
   "execution_count": null,
   "metadata": {
    "scrolled": true
   },
   "outputs": [],
   "source": [
    "ret,cohort = cohort_analysis(df,show_plot=True,mode='week')"
   ]
  },
  {
   "cell_type": "code",
   "execution_count": null,
   "metadata": {},
   "outputs": [],
   "source": [
    "ret_album,cohort_album = cohort_analysis(df[df.first_stream_source=='album'],show_plot=True,mode='week')\n",
    "ret_playlist,cohort_playlist = cohort_analysis(df[df.first_stream_source=='others_playlist'],show_plot=True,mode='week')"
   ]
  },
  {
   "cell_type": "markdown",
   "metadata": {},
   "source": [
    "comparing cohort based on behavior"
   ]
  },
  {
   "cell_type": "code",
   "execution_count": null,
   "metadata": {},
   "outputs": [],
   "source": [
    "ret_album"
   ]
  },
  {
   "cell_type": "code",
   "execution_count": null,
   "metadata": {},
   "outputs": [],
   "source": [
    "# pick the cohort week for plot\n",
    "df.week.value_counts()"
   ]
  },
  {
   "cell_type": "code",
   "execution_count": null,
   "metadata": {},
   "outputs": [],
   "source": [
    "df.columns"
   ]
  },
  {
   "cell_type": "code",
   "execution_count": null,
   "metadata": {},
   "outputs": [],
   "source": [
    "a = pd.DataFrame(df.drop_duplicates(subset='customer_id').week.value_counts()).reset_index()\n",
    "a.columns = ['week','Cohort Size']\n",
    "a = a.sort_values(by='week')\n",
    "a"
   ]
  },
  {
   "cell_type": "code",
   "execution_count": null,
   "metadata": {},
   "outputs": [],
   "source": [
    "df_cust = df.drop_duplicates(subset='customer_id')"
   ]
  },
  {
   "cell_type": "code",
   "execution_count": null,
   "metadata": {},
   "outputs": [],
   "source": [
    "df_cust[df_cust.week==16].first_stream_source.value_counts()"
   ]
  },
  {
   "cell_type": "code",
   "execution_count": null,
   "metadata": {},
   "outputs": [],
   "source": [
    "fig, ax = plt.subplots(figsize=(6,8))\n",
    "ax = sns.heatmap(a, annot=True,cmap='Blues',fmt='.0f')\n",
    "fig.savefig('retention_cohort_size.png',dpi=150)\n",
    "plt.title('Cohort Size')"
   ]
  },
  {
   "cell_type": "code",
   "execution_count": null,
   "metadata": {},
   "outputs": [],
   "source": [
    "sns.set_style('whitegrid')\n",
    "plt.figure(figsize=(10,5))\n",
    "fig, ax = plt.subplots(figsize=(14,8))\n",
    "frames = {'album':ret_album, 'playlist':ret_playlist}\n",
    "ax.set_prop_cycle('color',plt.cm.tab10(np.linspace(0,1,9)))\n",
    "lines = ['-', '--','-.']\n",
    "i=0\n",
    "for k,v in frames.items():\n",
    "    ax.plot(v[['16']],label=k,linestyle=lines[i]) # pick cohort with largest userbase\n",
    "    i+=1\n",
    "    \n",
    "legend = ax.legend(loc=1, shadow=True, fontsize='large')\n",
    "\n",
    "legend.get_frame().set_facecolor('#00FFCC')\n",
    "\n",
    "plt.title('Track Retention Rate by First Stream Source', fontsize='large')\n",
    "plt.xticks(np.arange(1, 7.1, 1))\n",
    "plt.xlim(1, 7)\n",
    "plt.ylim(0, 1)\n",
    "ax.set_yticklabels(['0', '20%', '40%', '60%', '80%', '100%'])\n",
    "plt.ylabel('Cohort Listening (Retention)',fontsize='large');\n",
    "plt.xlabel('week', fontsize='large')\n",
    "plt.show()"
   ]
  },
  {
   "cell_type": "code",
   "execution_count": null,
   "metadata": {},
   "outputs": [],
   "source": [
    "fig.savefig('retention_new_data.png',dpi=150)"
   ]
  },
  {
   "cell_type": "code",
   "execution_count": null,
   "metadata": {
    "scrolled": false
   },
   "outputs": [],
   "source": [
    "sns.set_style('whitegrid')\n",
    "plt.figure(figsize=(10,5))\n",
    "fig, ax = plt.subplots(figsize=(14,8))\n",
    "frames = {'album':ret_album, 'playlist':ret_playlist}\n",
    "ax.set_prop_cycle('color',plt.cm.tab10(np.linspace(0,1,9)))\n",
    "lines = ['-', '--']\n",
    "i=0\n",
    "for k,v in frames.items():\n",
    "    ax.plot(v[['15']],label=k,linestyle=lines[i]) # pick cohort with largest userbase\n",
    "    i+=1\n",
    "    \n",
    "legend = ax.legend(loc=1, shadow=True, fontsize='large')\n",
    "\n",
    "legend.get_frame().set_facecolor('#00FFCC')\n",
    "\n",
    "plt.title('Retention Rate by First Stream Source', fontsize='large')\n",
    "plt.xticks(np.arange(1, 7.1, 1))\n",
    "plt.xlim(1, 7)\n",
    "plt.ylim(0, 1)\n",
    "ax.set_yticklabels(['0', '20%', '40%', '60%', '80%', '100%'])\n",
    "plt.ylabel('Cohort Listening (Retention)',fontsize='large');\n",
    "plt.xlabel('week', fontsize='large')\n",
    "plt.show()"
   ]
  },
  {
   "cell_type": "markdown",
   "metadata": {},
   "source": [
    "### retention on discovery channels -> how likely are they to keep listening to the album/playlist?"
   ]
  },
  {
   "cell_type": "code",
   "execution_count": null,
   "metadata": {},
   "outputs": [],
   "source": [
    "df = pd.read_pickle('data/playlist_album_customers_df.pickle')"
   ]
  },
  {
   "cell_type": "code",
   "execution_count": null,
   "metadata": {},
   "outputs": [],
   "source": [
    "df.columns"
   ]
  },
  {
   "cell_type": "code",
   "execution_count": null,
   "metadata": {},
   "outputs": [],
   "source": [
    "# use only track population\n",
    "df_track = df[df.track_id==TRACK_ID]"
   ]
  },
  {
   "cell_type": "code",
   "execution_count": null,
   "metadata": {},
   "outputs": [],
   "source": [
    "# get album & playlist customer\n",
    "album_cust = df_track[df_track.first_stream_source=='album'].customer_id.unique()\n",
    "pl_cust = df_track[df_track.first_stream_source=='others_playlist'].customer_id.unique()"
   ]
  },
  {
   "cell_type": "code",
   "execution_count": null,
   "metadata": {},
   "outputs": [],
   "source": [
    "cohort_album = get_cohort_table(df[df.customer_id.isin(album_cust)],mode='week')\n",
    "cohort_album = cohort_album.groupby(level=0).apply(cohort_period)\n",
    "ret_album = get_retention(cohort_album)\n",
    "\n",
    "cohort_pl = get_cohort_table(df[df.customer_id.isin(pl_cust)],mode='week')\n",
    "cohort_pl = cohort_pl.groupby(level=0).apply(cohort_period)\n",
    "ret_pl = get_retention(cohort_pl)"
   ]
  },
  {
   "cell_type": "code",
   "execution_count": null,
   "metadata": {
    "scrolled": true
   },
   "outputs": [],
   "source": [
    "sns.set_style('whitegrid')\n",
    "plt.figure(figsize=(10,5))\n",
    "fig, ax = plt.subplots(figsize=(14,8))\n",
    "frames = {'album':ret_album, 'playlist':ret_pl}\n",
    "ax.set_prop_cycle('color',plt.cm.tab10(np.linspace(0,1,9)))\n",
    "lines = ['-', '--']\n",
    "i=0\n",
    "for k,v in frames.items():\n",
    "    ax.plot(v[['16']],label=k,linestyle=lines[i]) # pick cohort with largest userbase\n",
    "    i+=1\n",
    "    \n",
    "legend = ax.legend(loc=1, shadow=True, fontsize='large')\n",
    "\n",
    "legend.get_frame().set_facecolor('#00FFCC')\n",
    "\n",
    "plt.title('Discovery Channels Retention Rate by First Stream Source', fontsize='large')\n",
    "plt.xticks(np.arange(1, 7.1, 1))\n",
    "plt.xlim(1, 7)\n",
    "plt.ylim(0, 1)\n",
    "ax.set_yticklabels(['0', '20%', '40%', '60%', '80%', '100%'])\n",
    "plt.ylabel('Cohort Listening (Retention)',fontsize='large');\n",
    "plt.xlabel('week', fontsize='large')\n",
    "plt.show()"
   ]
  },
  {
   "cell_type": "code",
   "execution_count": null,
   "metadata": {},
   "outputs": [],
   "source": [
    "fig.savefig('retention_discovery_channels.png',dpi=150)"
   ]
  },
  {
   "cell_type": "code",
   "execution_count": null,
   "metadata": {},
   "outputs": [],
   "source": [
    "import gc\n",
    "gc.collect()"
   ]
  },
  {
   "cell_type": "markdown",
   "metadata": {},
   "source": [
    "### Average Stream Count - Do they stream more than other cohorts?"
   ]
  },
  {
   "cell_type": "markdown",
   "metadata": {},
   "source": [
    "#### Only \"See You Again\""
   ]
  },
  {
   "cell_type": "code",
   "execution_count": null,
   "metadata": {},
   "outputs": [],
   "source": [
    "TRACK_ID = 'f72fa60c8d9848a393d8ac4bbaa866ef'"
   ]
  },
  {
   "cell_type": "code",
   "execution_count": null,
   "metadata": {},
   "outputs": [],
   "source": [
    "# use only track population\n",
    "df = df[df.track_id==TRACK_ID]"
   ]
  },
  {
   "cell_type": "code",
   "execution_count": null,
   "metadata": {},
   "outputs": [],
   "source": [
    "# calculate avg stream per customers -> total_streams / total_customers\n",
    "cohort['customer_avg_stream'] = round(cohort.total_stream_count.divide(cohort.total_customers),2)\n",
    "cohort.head()"
   ]
  },
  {
   "cell_type": "code",
   "execution_count": null,
   "metadata": {},
   "outputs": [],
   "source": [
    "# get the chosen cohort which is week 16\n",
    "cohort_16 = cohort[cohort.index.get_level_values(0)=='16']\n",
    "cohort_16"
   ]
  },
  {
   "cell_type": "code",
   "execution_count": null,
   "metadata": {},
   "outputs": [],
   "source": [
    "df_album = df[df.first_stream_source=='album']\n",
    "df_playlist = df[df.first_stream_source=='others_playlist']"
   ]
  },
  {
   "cell_type": "code",
   "execution_count": null,
   "metadata": {
    "scrolled": true
   },
   "outputs": [],
   "source": [
    "ret_album,cohort_album = cohort_analysis(df_album,show_plot=False,mode='week')\n",
    "ret_playlist,cohort_playlist = cohort_analysis(df_playlist,show_plot=False,mode='week')"
   ]
  },
  {
   "cell_type": "code",
   "execution_count": null,
   "metadata": {},
   "outputs": [],
   "source": [
    "cohort_album['customer_avg_stream'] = round(cohort_album.total_stream_count.divide(cohort_album.total_customers),2)\n",
    "cohort_playlist['customer_avg_stream'] = round(cohort_playlist.total_stream_count.divide(cohort_playlist.total_customers),2)"
   ]
  },
  {
   "cell_type": "code",
   "execution_count": null,
   "metadata": {},
   "outputs": [],
   "source": [
    "cohort_16['avg_stream_album'] = cohort_album[cohort_album.index.get_level_values(0)=='16']['customer_avg_stream']\n",
    "cohort_16['avg_stream_playlist'] = cohort_playlist[cohort_playlist.index.get_level_values(0)=='16']['customer_avg_stream']\n",
    "cohort_16"
   ]
  },
  {
   "cell_type": "code",
   "execution_count": null,
   "metadata": {},
   "outputs": [],
   "source": [
    "cohort_desc = cohort_16.reset_index()\n",
    "cohort_desc"
   ]
  },
  {
   "cell_type": "code",
   "execution_count": null,
   "metadata": {},
   "outputs": [],
   "source": [
    "cohort_desc = cohort_desc.sort_values(by='week',ascending=False)\n",
    "cohort_desc"
   ]
  },
  {
   "cell_type": "code",
   "execution_count": null,
   "metadata": {},
   "outputs": [],
   "source": [
    "# set yticks for graph positioning\n",
    "cohort_desc['yaxis_pos'] = range(1,8)\n",
    "cohort_desc"
   ]
  },
  {
   "cell_type": "code",
   "execution_count": null,
   "metadata": {},
   "outputs": [],
   "source": [
    "sns.set_style('darkgrid')\n",
    "\n",
    "plt.figure(figsize=(10,5))\n",
    "fig, ax = plt.subplots(figsize=(14,8))\n",
    "\n",
    "my_range=cohort_desc.yaxis_pos\n",
    "\n",
    "plt.hlines(y=my_range, xmin=cohort_desc['avg_stream_playlist'], xmax=cohort_desc['avg_stream_album'], color='grey', alpha=0.6)\n",
    "plt.scatter(cohort_desc['avg_stream_playlist'], my_range, color='darkblue', alpha=0.8, label='playlist cohort',marker=\"^\", s=100)\n",
    "plt.scatter(cohort_desc['avg_stream_album'], my_range, color='green', alpha=0.8 , label='album cohort',s=100)\n",
    "plt.legend(fontsize='large', loc=2)\n",
    " \n",
    "plt.yticks(my_range, cohort_desc.cohort_period,fontsize='medium')\n",
    "plt.title('Comparison of Cohort Average Stream Count for \"See You Again\"', loc='center', fontsize='large')\n",
    "plt.xlabel('average streaming per customer', fontsize='medium')\n",
    "plt.ylabel('Period (week)', fontsize='medium')\n",
    "plt.xticks(np.arange(0,6.1,1),fontsize='medium')"
   ]
  },
  {
   "cell_type": "code",
   "execution_count": null,
   "metadata": {},
   "outputs": [],
   "source": [
    "# save\n",
    "fig.savefig('avg_stream_see_you_again.png',dpi=150)"
   ]
  },
  {
   "cell_type": "markdown",
   "metadata": {},
   "source": [
    "#### all songs (discovery channels)"
   ]
  },
  {
   "cell_type": "code",
   "execution_count": null,
   "metadata": {},
   "outputs": [],
   "source": [
    "df = pd.read_pickle('/project/exp_output/exp_3007.pickle')\n",
    "df.head()"
   ]
  },
  {
   "cell_type": "code",
   "execution_count": null,
   "metadata": {},
   "outputs": [],
   "source": [
    "gc.collect()"
   ]
  },
  {
   "cell_type": "code",
   "execution_count": null,
   "metadata": {},
   "outputs": [],
   "source": [
    "# reload full data\n",
    "df = pd.read_pickle('/project/samples/new/sample_mixed_105k_cleaned2.pickle')"
   ]
  },
  {
   "cell_type": "code",
   "execution_count": null,
   "metadata": {},
   "outputs": [],
   "source": [
    "# create separate df for track streams\n",
    "df_track = df[df.track_id==TRACK_ID]"
   ]
  },
  {
   "cell_type": "code",
   "execution_count": null,
   "metadata": {},
   "outputs": [],
   "source": [
    "# get customer population for album & playlist cohort\n",
    "in_scope = df_track[df_track.first_stream_source.isin(['album','others_playlist'])][['customer_id','album_name','playlist_id']]\n",
    "in_scope.head()"
   ]
  },
  {
   "cell_type": "code",
   "execution_count": null,
   "metadata": {},
   "outputs": [],
   "source": [
    "# get the customers\n",
    "df = df[df.customer_id.isin(in_scope.customer_id)]\n",
    "# limit to albums & playlists population related to see you again track\n",
    "df = df[(df.album_name.isin(in_scope.album_name)) | (df.playlist_id.isin(in_scope.playlist_id))]"
   ]
  },
  {
   "cell_type": "code",
   "execution_count": null,
   "metadata": {},
   "outputs": [],
   "source": [
    "# get album & playlist customer\n",
    "album_cust = df_track[df_track.first_stream_source=='album'].customer_id.unique()\n",
    "pl_cust = df_track[df_track.first_stream_source=='others_playlist'].customer_id.unique()"
   ]
  },
  {
   "cell_type": "code",
   "execution_count": null,
   "metadata": {},
   "outputs": [],
   "source": [
    "# to get correct cohort group, use df track then marged to main df on customer_id\n",
    "df_track['id'] = df_track['customer_id']\n",
    "df_track = df_track.set_index('id')\n",
    "df_track[['first_listen','first_listen_logtime']] = df_track.groupby(level=0)[['week','logtime']].min()\n",
    "df_track['cohort_group'] = df_track['first_listen']\n",
    "df_track['cohort_group'] = df_track['cohort_group'].astype('str')\n",
    "df_track = df_track.reset_index()"
   ]
  },
  {
   "cell_type": "code",
   "execution_count": null,
   "metadata": {},
   "outputs": [],
   "source": [
    "df_track = df_track[['customer_id','cohort_group','first_listen_logtime','album_name','playlist_id','first_stream_source']]\n",
    "df_track = df_track.drop_duplicates(subset='customer_id')"
   ]
  },
  {
   "cell_type": "code",
   "execution_count": null,
   "metadata": {},
   "outputs": [],
   "source": [
    "df_track.rename(columns={'album_name':'track_album', 'playlist_id':'track_playlist'},inplace=True)\n",
    "df_track.head()"
   ]
  },
  {
   "cell_type": "code",
   "execution_count": null,
   "metadata": {},
   "outputs": [],
   "source": [
    "df_track[['track_playlist']] = df_track.apply(lambda row: clean_for_source_pl(row),axis=1)"
   ]
  },
  {
   "cell_type": "code",
   "execution_count": null,
   "metadata": {},
   "outputs": [],
   "source": [
    "df_track[['track_album']] = df_track.apply(lambda row: clean_for_source(row),axis=1)"
   ]
  },
  {
   "cell_type": "code",
   "execution_count": null,
   "metadata": {},
   "outputs": [],
   "source": [
    "gc.collect()"
   ]
  },
  {
   "cell_type": "code",
   "execution_count": null,
   "metadata": {},
   "outputs": [],
   "source": [
    "df_track = df_track[df_track.cohort_group.isin(['15','16','17'])]"
   ]
  },
  {
   "cell_type": "code",
   "execution_count": null,
   "metadata": {},
   "outputs": [],
   "source": [
    "df_track"
   ]
  },
  {
   "cell_type": "code",
   "execution_count": null,
   "metadata": {},
   "outputs": [],
   "source": [
    "df = df[df.customer_id.isin(df_track.customer_id)]"
   ]
  },
  {
   "cell_type": "code",
   "execution_count": null,
   "metadata": {},
   "outputs": [],
   "source": [
    "df = df.merge(df_track, on=['customer_id'],how='left')\n",
    "df.head()"
   ]
  },
  {
   "cell_type": "code",
   "execution_count": null,
   "metadata": {},
   "outputs": [],
   "source": [
    "df = df.drop(['first_stream_source_y'],axis=1)\n",
    "df.rename(columns={'first_stream_source_x':'first_stream_source'},inplace=True)"
   ]
  },
  {
   "cell_type": "code",
   "execution_count": null,
   "metadata": {},
   "outputs": [],
   "source": [
    "# drop streaming prior to \"see you again\" discovery\n",
    "df = df[df.logtime >= df.first_listen_logtime]\n",
    "# drop streaming outside of the customer's own discovery playlists & albums\n",
    "df = df[(df.playlist_id==df.track_playlist) | (df.album_name==df.track_album)]"
   ]
  },
  {
   "cell_type": "code",
   "execution_count": null,
   "metadata": {},
   "outputs": [],
   "source": [
    "df.head()"
   ]
  },
  {
   "cell_type": "code",
   "execution_count": null,
   "metadata": {},
   "outputs": [],
   "source": [
    "df.to_pickle('data/playlist_album_customers_df.pickle')"
   ]
  },
  {
   "cell_type": "code",
   "execution_count": null,
   "metadata": {},
   "outputs": [],
   "source": [
    "df= pd.read_pickle('data/playlist_album_customers_df.pickle')"
   ]
  },
  {
   "cell_type": "code",
   "execution_count": null,
   "metadata": {},
   "outputs": [],
   "source": [
    "gc.collect()"
   ]
  },
  {
   "cell_type": "code",
   "execution_count": null,
   "metadata": {},
   "outputs": [],
   "source": [
    "df = df[df.cohort_group=='16']"
   ]
  },
  {
   "cell_type": "code",
   "execution_count": null,
   "metadata": {},
   "outputs": [],
   "source": [
    "# get cohort\n",
    "cohort_album = get_cohort_table(df[df.customer_id.isin(album_cust)],mode='week')\n",
    "cohort_album = cohort_album.groupby(level=0).apply(cohort_period)\n",
    "\n",
    "# get cohort\n",
    "cohort_playlist = get_cohort_table(df[df.customer_id.isin(pl_cust)],mode='week')\n",
    "cohort_playlist = cohort_playlist.groupby(level=0).apply(cohort_period)"
   ]
  },
  {
   "cell_type": "markdown",
   "metadata": {},
   "source": [
    "dropping pre discovery "
   ]
  },
  {
   "cell_type": "code",
   "execution_count": null,
   "metadata": {},
   "outputs": [],
   "source": [
    "# get after week 16\n",
    "df = df[df.week>=16]"
   ]
  },
  {
   "cell_type": "code",
   "execution_count": null,
   "metadata": {},
   "outputs": [],
   "source": [
    "df = df.drop(['weekly_stream_count'],axis=1)"
   ]
  },
  {
   "cell_type": "code",
   "execution_count": null,
   "metadata": {},
   "outputs": [],
   "source": [
    "gc.collect()"
   ]
  },
  {
   "cell_type": "code",
   "execution_count": null,
   "metadata": {},
   "outputs": [],
   "source": [
    "cohort_album['customer_avg_stream'] = round(cohort_album.total_stream_count.divide(cohort_album.total_customers),2)\n",
    "cohort_playlist['customer_avg_stream'] = round(cohort_playlist.total_stream_count.divide(cohort_playlist.total_customers),2)"
   ]
  },
  {
   "cell_type": "code",
   "execution_count": null,
   "metadata": {},
   "outputs": [],
   "source": [
    "cohort_album"
   ]
  },
  {
   "cell_type": "code",
   "execution_count": null,
   "metadata": {},
   "outputs": [],
   "source": [
    "cohort_playlist"
   ]
  },
  {
   "cell_type": "code",
   "execution_count": null,
   "metadata": {},
   "outputs": [],
   "source": [
    "cohort_album.customer_avg_stream.min(),cohort_album.customer_avg_stream.max()"
   ]
  },
  {
   "cell_type": "code",
   "execution_count": null,
   "metadata": {},
   "outputs": [],
   "source": [
    "def get_stream_comparison_chart(cohort_album,cohort_playlist,cohort_group='16'):\n",
    "    chart_df = get_chart_df(cohort_album,cohort_playlist,cohort_group=cohort_group)\n",
    "    draw_lollipop_chart(chart_df)\n",
    "\n",
    "def get_chart_df(cohort_album,cohort_playlist,cohort_group='16'):\n",
    "    chart_df = pd.DataFrame()\n",
    "    chart_df['cohort_period'] = cohort_album[cohort_album.index.get_level_values(0)==cohort_group]['cohort_period']\n",
    "    chart_df['avg_stream_album'] = cohort_album[cohort_album.index.get_level_values(0)==cohort_group]['customer_avg_stream']\n",
    "    chart_df['avg_stream_playlist'] = cohort_playlist[cohort_playlist.index.get_level_values(0)==cohort_group]['customer_avg_stream']\n",
    "    # reorder for y-axis positioning\n",
    "    chart_df = chart_df.reset_index()\n",
    "    chart_df = chart_df.sort_values(by='week',ascending=False)\n",
    "    # create column for yticks\n",
    "    chart_df['yaxis_pos'] = range(1,(len(chart_df)+1))\n",
    "    return chart_df\n",
    "    \n",
    "    \n",
    "def draw_lollipop_chart(cohort_desc):\n",
    "    sns.set_style('darkgrid')\n",
    "\n",
    "    fig, ax = plt.subplots(figsize=(14,8))\n",
    "\n",
    "    my_range=cohort_desc.yaxis_pos\n",
    "\n",
    "    plt.hlines(y=my_range, xmin=cohort_desc['avg_stream_playlist'], xmax=cohort_desc['avg_stream_album'], color='grey', alpha=0.6)\n",
    "    plt.scatter(cohort_desc['avg_stream_playlist'], my_range, color='darkblue', alpha=0.8, label='playlist cohort',marker=\"^\", s=100)\n",
    "    plt.scatter(cohort_desc['avg_stream_album'], my_range, color='green', alpha=0.8 , label='album cohort',s=100)\n",
    "    plt.legend(fontsize='large', loc=2)\n",
    "    plt.yticks(my_range, cohort_desc.cohort_period,fontsize='medium')\n",
    "    plt.title(\"Comparison of Cohort Average Stream Count Within Discovery Channels\", loc='center', fontsize=13)\n",
    "    plt.xlabel('average streaming per customer', fontsize='large')\n",
    "    plt.ylabel('Period (week)', fontsize='large')\n",
    "    plt.xticks(np.arange(0,20.1,4),fontsize='medium')\n",
    "    # save\n",
    "    #fig.savefig('avg_stream_all_playlist_and_albums.png',dpi=150)\n",
    "    plt.show()\n",
    "    return fig"
   ]
  },
  {
   "cell_type": "code",
   "execution_count": null,
   "metadata": {},
   "outputs": [],
   "source": [
    "fig = get_stream_comparison_chart(cohort_album,cohort_playlist,cohort_group='16')"
   ]
  },
  {
   "cell_type": "code",
   "execution_count": null,
   "metadata": {},
   "outputs": [],
   "source": [
    "get_stream_comparison_chart(cohort_album,cohort_playlist,cohort_group='17')"
   ]
  }
 ],
 "metadata": {
  "kernelspec": {
   "display_name": "Python 3",
   "language": "python",
   "name": "python3"
  },
  "language_info": {
   "codemirror_mode": {
    "name": "ipython",
    "version": 3
   },
   "file_extension": ".py",
   "mimetype": "text/x-python",
   "name": "python",
   "nbconvert_exporter": "python",
   "pygments_lexer": "ipython3",
   "version": "3.6.4"
  }
 },
 "nbformat": 4,
 "nbformat_minor": 2
}
