{
 "cells": [
  {
   "cell_type": "code",
   "execution_count": null,
   "metadata": {},
   "outputs": [],
   "source": [
    "import pandas as pd\n",
    "import random\n",
    "import numpy as np\n",
    "from operator import itemgetter\n",
    "from collections import Counter\n",
    "import datetime\n",
    "from scipy import interp\n",
    "import warnings\n",
    "warnings.filterwarnings('ignore')\n",
    "import pandas_profiling\n",
    "\n",
    "# Visualization\n",
    "import seaborn as sns\n",
    "import matplotlib.pyplot as plt\n",
    "%matplotlib inline\n",
    "import plotly \n",
    "import missingno as msno\n",
    "\n"
   ]
  },
  {
   "cell_type": "code",
   "execution_count": null,
   "metadata": {},
   "outputs": [],
   "source": [
    "def read_data():\n",
    "    import sherlockml.filesystem as sfs\n",
    "    #sfs.get('/input/spotfunc.py', 'spotfunc.py')\n",
    "    sfs.get('/input/cleaned_data.csv', 'cleaned_data.csv')\n",
    "\n",
    "    %%time\n",
    "    # Read in sampled data\n",
    "    data = pd.read_csv('cleaned_data.csv')\n",
    "    print('rows:',len(data))\n",
    "    data.drop(['Unnamed: 0','Unnamed: 0.1','Unnamed: 0.1.1','upc'],axis=1,inplace=True)\n",
    "    return data\n",
    "\n",
    "def get_user_streams(df):\n",
    "    sc = df.groupby('customer_id')['customer_id'].count().to_dict()\n",
    "    df['user_stream_count'] = df.customer_id.map(sc)\n",
    "    return df\n",
    "\n",
    "def get_listening_days(df):\n",
    "    dc = df.groupby('customer_id')['date'].nunique().to_dict()\n",
    "    df['listening_days'] = df.customer_id.map(dc)\n",
    "    return df\n",
    "\n",
    "def get_num_songs(df):\n",
    "    songs = df.groupby('customer_id')['track_id'].nunique().to_dict()\n",
    "    df['num_songs'] = df.customer_id.map(songs)\n",
    "    return df\n",
    "\n",
    "def get_num_albums(df):\n",
    "    album = df.groupby('customer_id')['album_name'].nunique().to_dict()\n",
    "    df['num_albums'] = df.customer_id.map(album)\n",
    "    return df\n",
    "\n",
    "def get_num_playlists(df):\n",
    "    p = df.groupby('customer_id')['playlist_id'].nunique().to_dict()\n",
    "    df['num_playlists'] = df.customer_id.map(p)\n",
    "    return df\n",
    "\n",
    "def get_num_artists(df):\n",
    "    artists = df.groupby('customer_id')['artist_name'].nunique().to_dict()\n",
    "    df['num_artists'] = df.customer_id.map(artists)\n",
    "    return df\n",
    "\n",
    "def get_age_bins(data):\n",
    "    data['birth_year']=data['birth_year'].dropna()\n",
    "    data['age'] = 2017- data.birth_year\n",
    "    data['age_bin'] = pd.cut(data['age'], [0, 7, 12, 18, 25, 40, 60, 120], labels=['baby', 'toddler', 'teens', \n",
    "                                                                              'young adult', 'adult','old','oldest'])\n",
    "    data = pd.get_dummies(data,columns=['age_bin'])\n",
    "    return data\n",
    "\n",
    "def get_songs_age(data):\n",
    "    first_played = data.groupby('track_id')['date'].min().to_dict()\n",
    "    last_played = data.groupby('track_id')['date'].max().to_dict()\n",
    "    data['song_first_played'] = data.track_id.map(first_played)\n",
    "    data['song_last_played'] = data.track_id.map(last_played)\n",
    "    data['song_lifetime'] = data.song_last_played - data.song_first_played\n",
    "    data['song_lifetime'] = (data.song_lifetime / np.timedelta64(1, 'D')).astype(int)\n",
    "    return data\n",
    "\n",
    "def get_albums_age(data):\n",
    "    first_played = data.groupby('album_name')['date'].min().to_dict()\n",
    "    last_played = data.groupby('album_name')['date'].max().to_dict()\n",
    "    data['album_first_played'] = data.album_name.map(first_played)\n",
    "    data['album_last_played'] = data.album_name.map(last_played)\n",
    "    data['album_lifetime'] = data.album_last_played - data.album_first_played\n",
    "    data['album_lifetime'] = (data.album_lifetime / np.timedelta64(1, 'D')).astype(int)\n",
    "    return data\n",
    "\n",
    "def get_songs_stream_count(data):\n",
    "    sc = data.groupby('track_id')['track_id'].count().to_dict()\n",
    "    data['song_stream_count'] = data.track_id.map(sc)\n",
    "    return data\n",
    "\n",
    "def get_albums_stream_count(data):\n",
    "    ac = data.groupby('album_name')['album_name'].count().to_dict()\n",
    "    data['album_stream_count'] = data.album_name.map(ac)\n",
    "    return data\n",
    "\n",
    "def get_artist_data(artist_name):\n",
    "    artist = data[data.artist_name==artist_name]\n",
    "    artist['date']= pd.to_datetime(artist.date, errors='coerce').dt.date\n",
    "    artist = get_user_streams(artist)\n",
    "    artist = get_songs_stream_count(artist)\n",
    "    artist = get_albums_stream_count(artist)\n",
    "    # get first listen, last listen, and cohort group\n",
    "    artist = set_cohort_group(artist)\n",
    "    artist = get_listening_days(artist)\n",
    "    \n",
    "    artist['lifetime'] = artist.last_listen - artist.first_listen \n",
    "    artist['lifetime'] = (artist.lifetime / np.timedelta64(1, 'D')).astype(int)\n",
    "    artist['lifetime_bin'] =  pd.cut(artist.lifetime, [-1, 31,364, 365, 730, 900], labels=['1 month', '>1 month',\n",
    "                                                                                        '1 year','1-2 year','>2 years'])\n",
    "    artist = get_num_albums(artist)\n",
    "    artist = get_num_songs(artist)\n",
    "    artist = get_num_playlists(artist)\n",
    "    artist = get_age_bins(artist)\n",
    "     \n",
    "    artist = set_cohort_group(artist)\n",
    "    \n",
    "    artist['first_listen'] = pd.to_datetime(artist.first_listen, errors='coerce')\n",
    "    artist['first_day'] = datetime.datetime.now() - artist['first_listen']\n",
    "    artist['first_day'] = (artist.first_day / np.timedelta64(1, 'D')).astype(int)\n",
    "    \n",
    "    artist = get_songs_age(artist)\n",
    "    artist = get_albums_age(artist)\n",
    "    \n",
    "    print(artist.head)\n",
    "    return artist\n",
    "\n",
    "def get_attributes(artist):\n",
    "    # run this first before filtering based on artist name\n",
    "    artist['date']= pd.to_datetime(artist.date, errors='coerce').dt.date\n",
    "    print('get stream count')\n",
    "    artist = get_user_streams(artist)\n",
    "    artist = get_songs_stream_count(artist)\n",
    "    artist = get_albums_stream_count(artist)\n",
    "    # get first listen, last listen, and cohort group\n",
    "      \n",
    "    print('get customers listening stats')\n",
    "    artist = get_num_albums(artist)\n",
    "    artist = get_num_songs(artist)\n",
    "    artist = get_num_playlists(artist)\n",
    "    #artist = get_num_artists(artist)\n",
    "    \n",
    "    print('get other stats')\n",
    "    artist = get_age_bins(artist)\n",
    "    artist = get_listening_days(artist)  \n",
    "    \n",
    "    \n",
    "    print('get other stats')\n",
    "    artist = get_songs_age(artist)\n",
    "    artist = get_albums_age(artist)\n",
    "    #artist = get_playlists_age(artist)\n",
    "    \n",
    "    print('get cohort group')\n",
    "    artist = set_cohort_group(artist)\n",
    "    \n",
    "    artist['first_listen'] = pd.to_datetime(artist.first_listen, errors='coerce')\n",
    "    artist['first_day'] = datetime.datetime.now() - artist['first_listen']\n",
    "    artist['first_day'] = (artist.first_day / np.timedelta64(1, 'D')).astype(int)\n",
    "    \n",
    "    artist['last_listen'] = pd.to_datetime(artist.last_listen, errors='coerce')\n",
    "    artist['lifetime'] = artist.last_listen - artist.first_listen \n",
    "    artist['lifetime'] = (artist.lifetime / np.timedelta64(1, 'D')).astype(int)\n",
    "    artist['lifetime_bin'] =  pd.cut(artist.lifetime, [-1, 31,364, 365, 730, 900], labels=['1 month', '>1 month',\n",
    "                                                                                        '1 year','1-2 year','>2 years'])\n",
    "    \n",
    "    print(artist.head)\n",
    "    return artist\n",
    "    "
   ]
  },
  {
   "cell_type": "code",
   "execution_count": null,
   "metadata": {},
   "outputs": [],
   "source": [
    "def get_collinearity(data):\n",
    "    X = data[['listening_days','lifetime','num_albums','num_songs','num_artists','num_playlists','user_stream_count','first_day','age']]\n",
    "    corr = X.corr()\n",
    "    # Generate a mask for the upper triangle\n",
    "    mask = np.zeros_like(corr, dtype=np.bool)\n",
    "    mask[np.triu_indices_from(mask)] = True\n",
    "\n",
    "    # Set up the matplotlib figure\n",
    "    f, ax = plt.subplots(figsize=(11, 9))\n",
    "\n",
    "    # Generate a custom diverging colormap\n",
    "    cmap = sns.diverging_palette(220, 10, as_cmap=True)\n",
    "\n",
    "    # Draw the heatmap with the mask and correct aspect ratio\n",
    "    sns.heatmap(corr, mask=mask, cmap=cmap, vmax=1.0, vmin=-1.0, center=0,annot=True,\n",
    "               square=True, linewidths=.5, cbar_kws={\"shrink\": .5})\n",
    "\n",
    "def cohort_period(df):\n",
    "    df['cohort_period'] = np.arange(len(df)) + 1\n",
    "    return df\n",
    "\n",
    "def cohort_analysis(df):\n",
    "    cohort = get_cohort_table(df)\n",
    "    cohort = cohort.groupby(level=0).apply(cohort_period)\n",
    "    ret = get_retention(cohort)\n",
    "    export_retention_chart(ret,show_plot=True)\n",
    "    return ret, cohort "
   ]
  },
  {
   "cell_type": "code",
   "execution_count": null,
   "metadata": {},
   "outputs": [],
   "source": [
    "def set_cohort_group(df):\n",
    "\t'''\n",
    "\tIdentify cohort group based on date of first streaming\n",
    "\t'''\n",
    "\tdf.set_index('customer_id', inplace=True)\n",
    "    # customer first & last day\n",
    "\tdf['first_listen'] = df.groupby(level=0)['date'].min()\n",
    "\tdf['last_listen'] = df.groupby(level=0)['date'].max()\n",
    "\tdf['cohort_group'] = df['first_listen']\n",
    "\tdf['cohort_group'] = df['cohort_group'].astype(str)\n",
    "\tdf.reset_index(inplace=True)\n",
    "\treturn df\n",
    "\n",
    "def get_cohort_table(df):\n",
    "\tgrouped = df.groupby(['cohort_group','date'])\n",
    "\tcohort = grouped.agg({'customer_id': pd.Series.nunique,\n",
    "\t\t\t\t\t\t\t'user_stream_count': pd.Series.sum})\n",
    "\t# rename columns\n",
    "\tcohort.rename(columns = {'customer_id': 'total_customers',\n",
    "\t\t\t\t\t\t\t 'user_stream_count': 'total_streams'},inplace=True)\n",
    "\treturn cohort\n",
    "\n",
    "def get_cohort(df):\n",
    "\tgrouped = df.groupby(['cohort_group'])\n",
    "\t# aggregate total athletes & activities\n",
    "\t# use count of athlete_id instead of block_visit_id to account for signup interaction\n",
    "\tcohort = grouped.agg({'athlete': pd.Series.nunique,\n",
    "\t\t\t\t\t\t\t'athlete_id': pd.Series.count})\n",
    "\t# rename columns\n",
    "\tcohort.rename(columns = {'athlete': 'total_users',\n",
    "\t\t\t\t\t\t\t 'athlete_id': 'total_activities'},inplace=True)\n",
    "\treturn cohort\n",
    "\n",
    "\n",
    "def get_retention(cohorts):\n",
    "\t# reindex the DataFrame \n",
    "\tcohorts.reset_index(inplace=True)\n",
    "\tcohorts.set_index(['cohort_group', 'cohort_period'], inplace=True)\n",
    "\tcohort_group_size = cohorts['total_customers'].groupby(level=0).first()\n",
    "\tuser_retention = cohorts['total_customers'].unstack(0).divide(cohort_group_size, axis=1)\n",
    "\treturn user_retention\n",
    "\n",
    "def export_retention_chart(retention,show_plot=False):\n",
    "\tsns.set(style='white', font_scale=1)\n",
    "\tfig = plt.figure(figsize=(30, 30))\n",
    "\tplt.title('Cohorts Analysis: User Retention')\n",
    "\tchart = sns.heatmap(retention.T, mask=retention.T.isnull(), annot=True, fmt='.0%',cmap='Blues');\n",
    "\tchart.set_ylabel('Cohort Group') \n",
    "\tchart.set_xlabel('Cohort Period')\n",
    "\t#fig.savefig('output/retention.png', dpi=150)\n",
    "\tprint('plot saved')\n",
    "\tif show_plot==True:\n",
    "\t\tplt.show()\n",
    "\telif show_plot==False:\n",
    "\t\tpass"
   ]
  },
  {
   "cell_type": "code",
   "execution_count": null,
   "metadata": {},
   "outputs": [],
   "source": [
    "data = read_data()"
   ]
  },
  {
   "cell_type": "markdown",
   "metadata": {},
   "source": [
    "missing values"
   ]
  },
  {
   "cell_type": "code",
   "execution_count": null,
   "metadata": {
    "scrolled": true
   },
   "outputs": [],
   "source": [
    "msno.matrix(data.sample(10000))"
   ]
  },
  {
   "cell_type": "markdown",
   "metadata": {},
   "source": [
    "## Plotting Trend"
   ]
  },
  {
   "cell_type": "code",
   "execution_count": null,
   "metadata": {},
   "outputs": [],
   "source": [
    "album = data[(data.stream_source=='album')&(data.year>2014)].groupby('date')['stream_source'].count()\n",
    "playlist = data[(data.stream_source=='others_playlist')&(data.year>2014)].groupby('date')['stream_source'].count()\n",
    "all_streams = data[(data.stream_source=='others_playlist')].groupby('date')['stream_source'].count()\n",
    "lines = ['-', '--']\n",
    "fig, ax = plt.subplots(figsize=(16,10))\n",
    "frames = {'album':album, 'playlist': playlist}\n",
    "ax.set_prop_cycle('color',plt.cm.tab10(np.linspace(0,1,9)))\n",
    "i=0\n",
    "for k,v in frames.items():\n",
    "    ax.plot(v,label=k,linestyle=lines[i])\n",
    "    i+=1\n",
    "\n",
    "legend = ax.legend(loc=2, shadow=True, fontsize=18)\n",
    "\n",
    "# Put a nicer background color on the legend.\n",
    "#legend.get_frame().set_facecolor('#00FFCC')\n",
    "plt.title('Streaming from albums and playlists', fontsize=18)\n",
    "#plt.xticks(np.arange(1, 20.1, 1))\n",
    "plt.xticks(np.arange(1, 35, step=5))\n",
    "ax.tick_params(labelsize=12)\n",
    "#plt.xlim(1, 20)\n",
    "plt.ylabel('stream count',fontsize=18);\n",
    "plt.xlabel('date',fontsize=18)\n",
    "plt.show()"
   ]
  },
  {
   "cell_type": "code",
   "execution_count": null,
   "metadata": {},
   "outputs": [],
   "source": [
    "fig.savefig('album_playlist_stream_trend',dpi=150)"
   ]
  },
  {
   "cell_type": "code",
   "execution_count": null,
   "metadata": {},
   "outputs": [],
   "source": [
    "data[(data.year>2014) & (data.month.isin(np.arange(7)))].groupby('year')['stream_source'].count()"
   ]
  },
  {
   "cell_type": "code",
   "execution_count": null,
   "metadata": {},
   "outputs": [],
   "source": [
    "np.arange(7)"
   ]
  },
  {
   "cell_type": "code",
   "execution_count": null,
   "metadata": {},
   "outputs": [],
   "source": [
    "data[(data.year>2014) & (data.stream_source=='album') & (data.month.isin(np.arange(7)))].groupby('year')['stream_source'].count(), "
   ]
  },
  {
   "cell_type": "code",
   "execution_count": null,
   "metadata": {},
   "outputs": [],
   "source": [
    "data[(data.year>2014) & (data.stream_source=='others_playlist') & (data.month.isin(np.arange(7)))].groupby('year')['stream_source'].count()"
   ]
  },
  {
   "cell_type": "code",
   "execution_count": null,
   "metadata": {},
   "outputs": [],
   "source": [
    "album = data[(data.stream_source=='album')&(data.year>2014)].groupby('date')['album_name'].nunique()\n",
    "playlist = data[(data.stream_source=='others_playlist')&(data.year>2014)].groupby('date')['playlist_id'].nunique()\n",
    "\n",
    "\n",
    "fig, ax = plt.subplots(figsize=(16,10))\n",
    "frames = {'album':album, 'playlist': playlist}\n",
    "ax.set_prop_cycle('color',plt.cm.tab10(np.linspace(0,1,9)))\n",
    "lines = ['-', '--']\n",
    "i=0\n",
    "for k,v in frames.items():\n",
    "    ax.plot(v,label=k,linestyle=lines[i])\n",
    "    i+=1\n",
    "\n",
    "legend = ax.legend(loc=2, shadow=True, fontsize=18)\n",
    "\n",
    "# Put a nicer background color on the legend.\n",
    "#legend.get_frame().set_facecolor('#00FFCC')\n",
    "plt.title('Total unique albums and playlists listened', fontsize=18)\n",
    "#plt.xticks(np.arange(1, 20.1, 1))\n",
    "plt.xticks(np.arange(0, 35, step=6))\n",
    "ax.tick_params(labelsize=16)\n",
    "#plt.xlim(1, 20)\n",
    "plt.ylabel('total',fontsize=18);\n",
    "plt.xlabel('date',fontsize=18)\n",
    "plt.show()"
   ]
  },
  {
   "cell_type": "code",
   "execution_count": null,
   "metadata": {},
   "outputs": [],
   "source": [
    "fig.savefig('album_playlist_unique_count',dpi=150)"
   ]
  },
  {
   "cell_type": "code",
   "execution_count": null,
   "metadata": {},
   "outputs": [],
   "source": [
    "album = data[(data.stream_source=='album')&(data.year>2014)].groupby('date')['customer_id'].nunique()\n",
    "playlist = data[(data.stream_source=='others_playlist')&(data.year>2014)].groupby('date')['customer_id'].nunique()\n",
    "\n",
    "\n",
    "fig, ax = plt.subplots(figsize=(16,10))\n",
    "frames = {'album':album, 'playlist': playlist}\n",
    "ax.set_prop_cycle('color',plt.cm.tab10(np.linspace(0,1,9)))\n",
    "lines = ['-', '--']\n",
    "i = 0\n",
    "for k,v in frames.items():\n",
    "    ax.plot(v,label=k,linestyle=lines[i])\n",
    "    i+=1\n",
    "\n",
    "legend = ax.legend(loc=2, shadow=True, fontsize=18)\n",
    "\n",
    "# Put a nicer background color on the legend.\n",
    "#legend.get_frame().set_facecolor('#00FFCC')\n",
    "plt.title('Total listeners', fontsize=18)\n",
    "#plt.xticks(np.arange(1, 20.1, 1))\n",
    "plt.xticks(np.arange(0, 35, step=6))\n",
    "ax.tick_params(labelsize=16)\n",
    "#plt.xlim(1, 20)\n",
    "plt.ylabel('Number of customer ID',fontsize=18);\n",
    "plt.xlabel('date',fontsize=18)\n",
    "plt.show()"
   ]
  },
  {
   "cell_type": "code",
   "execution_count": null,
   "metadata": {},
   "outputs": [],
   "source": [
    "fig.savefig('album_playlist_listeners_count',dpi=150)"
   ]
  },
  {
   "cell_type": "markdown",
   "metadata": {},
   "source": [
    "## Do they cannibalize each other?"
   ]
  },
  {
   "cell_type": "code",
   "execution_count": null,
   "metadata": {},
   "outputs": [],
   "source": [
    "data.stream_source.value_counts()"
   ]
  },
  {
   "cell_type": "code",
   "execution_count": null,
   "metadata": {},
   "outputs": [],
   "source": [
    "# count of play of tracks from album & playlist\n",
    "album = data[(data.stream_source=='album')&(data.year>2014)].groupby('track_id')['stream_source'].count().to_dict()\n",
    "playlist = data[(data.stream_source=='others_playlist')&(data.year>2014)].groupby('track_id')['stream_source'].count().to_dict()\n",
    "\n",
    "data['played_in_album'] = data.track_id.map(album).fillna(0).astype('int')\n",
    "data['played_in_playlist'] = data.track_id.map(playlist).fillna(0).astype('int')"
   ]
  },
  {
   "cell_type": "code",
   "execution_count": null,
   "metadata": {},
   "outputs": [],
   "source": [
    "# total track stream\n",
    "data = get_songs_stream_count(data)"
   ]
  },
  {
   "cell_type": "code",
   "execution_count": null,
   "metadata": {},
   "outputs": [],
   "source": [
    "data.head()"
   ]
  },
  {
   "cell_type": "code",
   "execution_count": null,
   "metadata": {},
   "outputs": [],
   "source": [
    "# give number in place of track id for viz simplicity\n",
    "def set_song_num(df):\n",
    "    tracks = df.drop_duplicates(subset='track_id')\n",
    "    tracks['track_num'] = np.arange(len(tracks)) + 1\n",
    "    df = df.merge(tracks[['track_id','track_num']],on='track_id',how='left')\n",
    "    return df"
   ]
  },
  {
   "cell_type": "code",
   "execution_count": null,
   "metadata": {},
   "outputs": [],
   "source": [
    "data = set_song_num(data)\n",
    "data.head()"
   ]
  },
  {
   "cell_type": "markdown",
   "metadata": {},
   "source": [
    "transform data for scatterplot viz"
   ]
  },
  {
   "cell_type": "code",
   "execution_count": null,
   "metadata": {},
   "outputs": [],
   "source": [
    "data.track_id.value_counts()"
   ]
  },
  {
   "cell_type": "code",
   "execution_count": null,
   "metadata": {},
   "outputs": [],
   "source": [
    "track_album = data[data.stream_source=='album']\n",
    "track_album['play_count'] = track_album.track_id.map(track_album.track_id.value_counts())\n",
    "track_album = track_album.drop_duplicates(subset=['track_id','stream_source'])\n",
    "\n",
    "track_playlist = data[data.stream_source=='others_playlist']\n",
    "track_playlist['play_count'] = track_playlist.track_id.map(track_playlist.track_id.value_counts())\n",
    "track_playlist= track_playlist.drop_duplicates(subset=['track_id','stream_source'])\n"
   ]
  },
  {
   "cell_type": "code",
   "execution_count": null,
   "metadata": {},
   "outputs": [],
   "source": [
    "tracks = pd.concat([track_playlist,track_album],ignore_index=True)"
   ]
  },
  {
   "cell_type": "code",
   "execution_count": null,
   "metadata": {},
   "outputs": [],
   "source": [
    "tracks = data[data.stream_source.isin(['album','others_playlist'])]\n",
    "\n",
    "num_sources = tracks.groupby('track_id')['stream_source'].nunique().to_dict()\n",
    "tracks['num_sources'] = tracks.track_id.map(num_sources)\n",
    "# only consider track that has been played in both stream sources\n",
    "tracks = tracks[tracks.num_sources==2]"
   ]
  },
  {
   "cell_type": "code",
   "execution_count": null,
   "metadata": {},
   "outputs": [],
   "source": [
    "tracks.num_sources.unique()"
   ]
  },
  {
   "cell_type": "code",
   "execution_count": null,
   "metadata": {},
   "outputs": [],
   "source": [
    "\n",
    "sns.lmplot( x=\"played_in_playlist\", y=\"played_in_album\", data=data[data.year>2014].drop_duplicates(subset=['track_id']), fit_reg=True,size=10)\n",
    "#ax.set_ylabel('total streaming from album')\n",
    "#ax.set_xlabel('total streaming from playlist')\n",
    "# Move the legend to an empty part of the plot\n",
    "plt.xlabel('total streaming from playlist',fontsize=14)\n",
    "plt.ylabel('total streaming from album',fontsize=14)\n",
    "plt.xticks(fontsize=12)\n",
    "plt.yticks(fontsize=12)\n"
   ]
  },
  {
   "cell_type": "code",
   "execution_count": null,
   "metadata": {},
   "outputs": [],
   "source": [
    "# Use the 'hue' argument to provide a factor variable\n",
    "sns.lmplot( x=\"played_in_playlist\", y=\"played_in_album\", data=data[(data.year>2014) & (data.played_in_playlist<=2500)].drop_duplicates(subset=['track_id']), fit_reg=True,size=10)\n",
    "#ax.set_ylabel('total streaming from album')\n",
    "#ax.set_xlabel('total streaming from playlist')\n",
    "# Move the legend to an empty part of the plot\n",
    "plt.xlabel('total streaming from playlist',fontsize=14)\n",
    "plt.ylabel('total streaming from album',fontsize=14)\n",
    "plt.xticks(fontsize=12)\n",
    "plt.yticks(fontsize=12)\n"
   ]
  },
  {
   "cell_type": "code",
   "execution_count": null,
   "metadata": {},
   "outputs": [],
   "source": [
    "tracks[(tracks.played_in_playlist<=2500) & (tracks.played_in_album<100)]"
   ]
  },
  {
   "cell_type": "code",
   "execution_count": null,
   "metadata": {},
   "outputs": [],
   "source": [
    "corr = data[data.year>2014].drop_duplicates(subset=['track_id'])[['played_in_playlist','played_in_album','song_stream_count']].corr()\n",
    "mask = np.zeros_like(corr, dtype=np.bool)\n",
    "mask[np.triu_indices_from(mask)] = True\n",
    "\n",
    "# Set up the matplotlib figure\n",
    "f, ax = plt.subplots(figsize=(8, 8))\n",
    "\n",
    "# Generate a custom diverging colormap\n",
    "cmap = sns.diverging_palette(220, 10, as_cmap=True)\n",
    "\n",
    "# Draw the heatmap with the mask and correct aspect ratio\n",
    "sns.heatmap(corr, mask=mask, cmap=\"Blues\", vmax=1.0, vmin=-1.0, center=0,\n",
    "            square=True, linewidths=.5, cbar_kws={\"shrink\": .5},annot=True)\n",
    "#sns.set(font_scale=1.3)\n",
    "sns.set_style('white')"
   ]
  },
  {
   "cell_type": "code",
   "execution_count": null,
   "metadata": {},
   "outputs": [],
   "source": []
  },
  {
   "cell_type": "code",
   "execution_count": null,
   "metadata": {},
   "outputs": [],
   "source": []
  },
  {
   "cell_type": "code",
   "execution_count": null,
   "metadata": {},
   "outputs": [],
   "source": [
    "data.customer_id.nunique()"
   ]
  },
  {
   "cell_type": "code",
   "execution_count": null,
   "metadata": {},
   "outputs": [],
   "source": [
    "data[data.year==2015].groupby('month')['customer_id'].nunique()"
   ]
  },
  {
   "cell_type": "code",
   "execution_count": null,
   "metadata": {},
   "outputs": [],
   "source": []
  },
  {
   "cell_type": "code",
   "execution_count": null,
   "metadata": {},
   "outputs": [],
   "source": [
    "data.describe()"
   ]
  },
  {
   "cell_type": "code",
   "execution_count": null,
   "metadata": {},
   "outputs": [],
   "source": [
    "def convert_to_int(x):\n",
    "    try:\n",
    "        return int(x)\n",
    "    except:\n",
    "        return np.nan"
   ]
  },
  {
   "cell_type": "code",
   "execution_count": null,
   "metadata": {},
   "outputs": [],
   "source": [
    "data['age'] = data.year - data.birth_year"
   ]
  },
  {
   "cell_type": "code",
   "execution_count": null,
   "metadata": {},
   "outputs": [],
   "source": [
    "data['age'] = data.age.apply(convert_to_int)"
   ]
  },
  {
   "cell_type": "code",
   "execution_count": null,
   "metadata": {
    "scrolled": false
   },
   "outputs": [],
   "source": [
    "import pandas_profiling\n",
    "pandas_profiling.ProfileReport(data.drop_duplicates(subset=['customer_id'],keep='last')) "
   ]
  },
  {
   "cell_type": "code",
   "execution_count": null,
   "metadata": {},
   "outputs": [],
   "source": [
    "data.album_name.nunique(), data.artist_name.nunique(), data.track_id.nunique(), data.customer_id.nunique()"
   ]
  },
  {
   "cell_type": "code",
   "execution_count": null,
   "metadata": {},
   "outputs": [],
   "source": [
    "data.playlist_id.nunique()"
   ]
  },
  {
   "cell_type": "code",
   "execution_count": null,
   "metadata": {},
   "outputs": [],
   "source": [
    "len(data)"
   ]
  },
  {
   "cell_type": "code",
   "execution_count": null,
   "metadata": {},
   "outputs": [],
   "source": [
    "data['day'] = data.date.dt.dayofyear\n",
    "data['week'] = data.date.dt.weekofyear"
   ]
  },
  {
   "cell_type": "code",
   "execution_count": null,
   "metadata": {},
   "outputs": [],
   "source": [
    "data.date.min(), data.date.max()"
   ]
  },
  {
   "cell_type": "code",
   "execution_count": null,
   "metadata": {},
   "outputs": [],
   "source": [
    "data.drop_duplicates(subset='customer_id').gender.value_counts()"
   ]
  },
  {
   "cell_type": "code",
   "execution_count": null,
   "metadata": {},
   "outputs": [],
   "source": [
    "cust"
   ]
  },
  {
   "cell_type": "code",
   "execution_count": null,
   "metadata": {},
   "outputs": [],
   "source": [
    "cust = data.drop_duplicates(subset='customer_id')"
   ]
  },
  {
   "cell_type": "code",
   "execution_count": null,
   "metadata": {},
   "outputs": [],
   "source": [
    "cust[cust.access=='basic-desktop'][['access','year','stream_device','stream_os','mobile']].sort_values(by='year')"
   ]
  },
  {
   "cell_type": "code",
   "execution_count": null,
   "metadata": {},
   "outputs": [],
   "source": [
    "n_access = data.groupby('customer_id')['access'].nunique().to_dict()\n",
    "data['n_access'] = data.customer_id.map(n_access)\n",
    "data.n_access.unique()"
   ]
  },
  {
   "cell_type": "code",
   "execution_count": null,
   "metadata": {},
   "outputs": [],
   "source": [
    "data[data.n_access>1].drop_duplicates(subset='customer_id').access.value_counts()"
   ]
  },
  {
   "cell_type": "code",
   "execution_count": null,
   "metadata": {},
   "outputs": [],
   "source": [
    "data[data.access=='basic-desktop'].drop_duplicates(subset='customer_id').n_access.value_counts()"
   ]
  },
  {
   "cell_type": "code",
   "execution_count": null,
   "metadata": {},
   "outputs": [],
   "source": [
    "cust = data[data.n_access>1].drop_duplicates(subset=['customer_id','access'])\n",
    "cust.head()"
   ]
  },
  {
   "cell_type": "code",
   "execution_count": null,
   "metadata": {},
   "outputs": [],
   "source": [
    "basic_users = cust[cust.access=='basic-desktop'].customer_id.unique()\n",
    "cust = cust[cust.customer_id.isin(basic_users)]\n",
    "cust"
   ]
  },
  {
   "cell_type": "code",
   "execution_count": null,
   "metadata": {},
   "outputs": [],
   "source": [
    "cust[['customer_id','access']].sort_values(by='customer_id')"
   ]
  },
  {
   "cell_type": "code",
   "execution_count": null,
   "metadata": {},
   "outputs": [],
   "source": [
    "cust[cust.access=='free'][['access','year','stream_device','stream_os','mobile']]"
   ]
  },
  {
   "cell_type": "code",
   "execution_count": null,
   "metadata": {},
   "outputs": [],
   "source": [
    "cust = data.drop_duplicates(subset='customer_id')\n",
    "#pandas_profiling.ProfileReport(cust) "
   ]
  },
  {
   "cell_type": "code",
   "execution_count": null,
   "metadata": {},
   "outputs": [],
   "source": [
    "data[data.customer_id.isin(cust)].gender.value_counts()"
   ]
  },
  {
   "cell_type": "code",
   "execution_count": null,
   "metadata": {},
   "outputs": [],
   "source": [
    "data[data.customer_id.isin(cust)].gender.value_counts()"
   ]
  },
  {
   "cell_type": "code",
   "execution_count": null,
   "metadata": {},
   "outputs": [],
   "source": [
    "msno.matrix(df.drop_duplicates(subset='customer_id').sample(5000))"
   ]
  },
  {
   "cell_type": "code",
   "execution_count": null,
   "metadata": {
    "scrolled": true
   },
   "outputs": [],
   "source": [
    "data.columns"
   ]
  },
  {
   "cell_type": "code",
   "execution_count": null,
   "metadata": {},
   "outputs": [],
   "source": [
    "cust = data[data.year==2015].customer_id.drop_duplicates()\n",
    "cust"
   ]
  },
  {
   "cell_type": "code",
   "execution_count": null,
   "metadata": {},
   "outputs": [],
   "source": [
    "data[]"
   ]
  },
  {
   "cell_type": "code",
   "execution_count": null,
   "metadata": {},
   "outputs": [],
   "source": [
    "cust.to_csv('customer2015_dataset2.csv',index=False)"
   ]
  },
  {
   "cell_type": "markdown",
   "metadata": {},
   "source": [
    "## sample dataset 2"
   ]
  },
  {
   "cell_type": "code",
   "execution_count": null,
   "metadata": {},
   "outputs": [],
   "source": [
    "df = pd.read_pickle('/project/samples/new/sample_complete_105k.pickle')"
   ]
  },
  {
   "cell_type": "code",
   "execution_count": null,
   "metadata": {},
   "outputs": [],
   "source": [
    "df = df.sort_values(by='logtime')"
   ]
  },
  {
   "cell_type": "code",
   "execution_count": null,
   "metadata": {},
   "outputs": [],
   "source": [
    "import gc\n",
    "gc.collect()"
   ]
  },
  {
   "cell_type": "code",
   "execution_count": null,
   "metadata": {},
   "outputs": [],
   "source": [
    "basics = df[df.access=='basic-desktop'].customer_id.unique()\n",
    "df = df[~df.customer_id.isin(basics)]\n",
    "df.customer_id.nunique()\n"
   ]
  },
  {
   "cell_type": "code",
   "execution_count": null,
   "metadata": {},
   "outputs": [],
   "source": [
    "df = df.dropna(subset=['gender'])\n",
    "df.customer_id.nunique()\n"
   ]
  },
  {
   "cell_type": "code",
   "execution_count": null,
   "metadata": {},
   "outputs": [],
   "source": [
    "cust = df['customer_id']\n",
    "cust.to_csv('/project/customers_df/final/dataset2_customers.csv',index=False)"
   ]
  },
  {
   "cell_type": "code",
   "execution_count": null,
   "metadata": {},
   "outputs": [],
   "source": [
    "df = pd.read_pickle('/project/samples/new/sample_mixed_105k.pickle')\n",
    "df.customer_id.nunique()"
   ]
  },
  {
   "cell_type": "code",
   "execution_count": null,
   "metadata": {},
   "outputs": [],
   "source": [
    "def get_num_access(df):\n",
    "    num_access = df.groupby('customer_id')['access'].nunique().to_dict()\n",
    "    df['num_access'] = df['customer_id'].map(num_access)\n",
    "    return df"
   ]
  },
  {
   "cell_type": "code",
   "execution_count": null,
   "metadata": {},
   "outputs": [],
   "source": [
    "df = get_num_access(df)\n",
    "df = df[df.num_access==1]"
   ]
  },
  {
   "cell_type": "code",
   "execution_count": null,
   "metadata": {},
   "outputs": [],
   "source": [
    "df.customer_id.nunique()"
   ]
  },
  {
   "cell_type": "code",
   "execution_count": null,
   "metadata": {},
   "outputs": [],
   "source": [
    "df2 = pd.read_pickle('/project/samples/new/sample_mixed_90k_cleaned.pickle')"
   ]
  },
  {
   "cell_type": "code",
   "execution_count": null,
   "metadata": {},
   "outputs": [],
   "source": [
    "df = pd.read_pickle('/project/samples/new/sample_nonlisteners_45k.pickle')\n",
    "df = get_num_access(df)"
   ]
  },
  {
   "cell_type": "code",
   "execution_count": null,
   "metadata": {},
   "outputs": [],
   "source": [
    "df = df[df.num_access==1]\n",
    "df.customer_id.nunique()"
   ]
  },
  {
   "cell_type": "code",
   "execution_count": null,
   "metadata": {},
   "outputs": [],
   "source": [
    "import gc\n",
    "gc.collect()"
   ]
  },
  {
   "cell_type": "code",
   "execution_count": null,
   "metadata": {},
   "outputs": [],
   "source": [
    "new_c = df[~df.customer_id.isin(df2.customer_id.unique())].drop_duplicates(subset=['customer_id'])\n",
    "len(new_c)"
   ]
  },
  {
   "cell_type": "code",
   "execution_count": null,
   "metadata": {},
   "outputs": [],
   "source": [
    "from sklearn.utils import resample"
   ]
  },
  {
   "cell_type": "code",
   "execution_count": null,
   "metadata": {},
   "outputs": [],
   "source": [
    "new_c = resample(new_c,n_samples=14000, replace=False)\n",
    "new_c.gender.value_counts(),new_c.access.value_counts()"
   ]
  },
  {
   "cell_type": "code",
   "execution_count": null,
   "metadata": {},
   "outputs": [],
   "source": [
    "new_c=pd.DataFrame()\n",
    "new_c =None"
   ]
  },
  {
   "cell_type": "code",
   "execution_count": null,
   "metadata": {},
   "outputs": [],
   "source": [
    "df = df[df.customer_id.isin(new_c.customer_id)]\n",
    "df.customer_id.nunique()"
   ]
  },
  {
   "cell_type": "code",
   "execution_count": null,
   "metadata": {},
   "outputs": [],
   "source": [
    "df.to_pickle('/project/samples/new/additional_sample_nonlisteners_14k.pickle')"
   ]
  },
  {
   "cell_type": "code",
   "execution_count": null,
   "metadata": {},
   "outputs": [],
   "source": [
    "df = pd.concat([df,df2],ignore_index=True)\n",
    "df.customer_id.nunique()"
   ]
  },
  {
   "cell_type": "code",
   "execution_count": null,
   "metadata": {},
   "outputs": [],
   "source": [
    "df = df.sort_values(by='logtime')"
   ]
  },
  {
   "cell_type": "code",
   "execution_count": null,
   "metadata": {},
   "outputs": [],
   "source": [
    "df = pd.read_pickle('/project/samples/new/sample_mixed_105k_cleaned2.pickle')"
   ]
  },
  {
   "cell_type": "code",
   "execution_count": null,
   "metadata": {
    "scrolled": true
   },
   "outputs": [],
   "source": [
    "df[df.track_id == 'f72fa60c8d9848a393d8ac4bbaa866ef'].customer_id.nunique()"
   ]
  },
  {
   "cell_type": "code",
   "execution_count": null,
   "metadata": {},
   "outputs": [],
   "source": [
    "gc.collect()"
   ]
  },
  {
   "cell_type": "code",
   "execution_count": null,
   "metadata": {},
   "outputs": [],
   "source": [
    "df['listen_to_track'] = df.where(df.track_id == 'f72fa60c8d9848a393d8ac4bbaa866ef',0)\n",
    "df['listen_to_track'] = df['listen_to_track'].fillna(1)\n",
    "df.head()"
   ]
  },
  {
   "cell_type": "code",
   "execution_count": null,
   "metadata": {},
   "outputs": [],
   "source": [
    "df.head()"
   ]
  },
  {
   "cell_type": "code",
   "execution_count": null,
   "metadata": {},
   "outputs": [],
   "source": [
    "pandas_profiling.ProfileReport(df.drop_duplicates(subset='customer_id')) "
   ]
  },
  {
   "cell_type": "code",
   "execution_count": null,
   "metadata": {},
   "outputs": [],
   "source": [
    "len(df)"
   ]
  },
  {
   "cell_type": "code",
   "execution_count": null,
   "metadata": {},
   "outputs": [],
   "source": [
    "df.customer_id.nunique(),df.artist_name.nunique(),df.album_name.nunique(),df.track_id.nunique()"
   ]
  },
  {
   "cell_type": "code",
   "execution_count": null,
   "metadata": {},
   "outputs": [],
   "source": [
    "df.playlist_id.nunique()"
   ]
  },
  {
   "cell_type": "markdown",
   "metadata": {},
   "source": [
    "## boxplot - customers"
   ]
  },
  {
   "cell_type": "code",
   "execution_count": null,
   "metadata": {
    "scrolled": true
   },
   "outputs": [],
   "source": [
    "df = pd.read_pickle('/project/samples/new/sample_mixed_105k_cleaned2.pickle')\n",
    "df.head()"
   ]
  },
  {
   "cell_type": "code",
   "execution_count": null,
   "metadata": {},
   "outputs": [],
   "source": [
    "import seaborn as sns\n",
    "sns.set(style=\"ticks\", palette=\"pastel\")\n",
    "\n",
    "ax = sns.boxplot(x=df.user_stream_count)\n"
   ]
  },
  {
   "cell_type": "code",
   "execution_count": null,
   "metadata": {},
   "outputs": [],
   "source": [
    "# listeners and non-listeners\n",
    "fig, ax = plt.subplots(1,2,figsize=(14,5))\n",
    "sns.distplot(df[df.track_id=='f72fa60c8d9848a393d8ac4bbaa866ef'] .user_stream_count, ax=ax[0])\n",
    "sns.distplot(df[df.track_id!='f72fa60c8d9848a393d8ac4bbaa866ef'].user_stream_count,ax=ax[1])\n",
    "ax[0].set_xlabel('stream count of \"See You Again\" listeners')\n",
    "ax[1].set_xlabel('stream count of \"See You Again\" non-listeners')"
   ]
  },
  {
   "cell_type": "code",
   "execution_count": null,
   "metadata": {},
   "outputs": [],
   "source": [
    "import gc\n",
    "gc.collect()"
   ]
  },
  {
   "cell_type": "code",
   "execution_count": null,
   "metadata": {},
   "outputs": [],
   "source": [
    "# without outliers\n",
    "# listeners and non-listeners\n",
    "fig, ax = plt.subplots(1,2,figsize=(14,5))\n",
    "sns.distplot(df[(df.track_id=='f72fa60c8d9848a393d8ac4bbaa866ef') & (df.user_stream_count<1000)] .user_stream_count, ax=ax[0])\n",
    "sns.distplot(df[(df.track_id!='f72fa60c8d9848a393d8ac4bbaa866ef') & (df.user_stream_count<1000)].user_stream_count,ax=ax[1])\n",
    "ax[0].set_xlabel('stream count of \"See You Again\" listeners')\n",
    "ax[1].set_xlabel('stream count of \"See You Again\" non-listeners')"
   ]
  },
  {
   "cell_type": "code",
   "execution_count": null,
   "metadata": {},
   "outputs": [],
   "source": [
    "# albums and playlists\n",
    "fig, ax = plt.subplots(1,2,figsize=(14,5))\n",
    "sns.distplot(df[(df.stream_source=='others_playlist') & (df.track_id=='f72fa60c8d9848a393d8ac4bbaa866ef')].user_stream_count, ax=ax[0])\n",
    "sns.distplot(df[(df.stream_source=='album') & (df.track_id=='f72fa60c8d9848a393d8ac4bbaa866ef')].user_stream_count,ax=ax[1])\n",
    "ax[0].set_xlabel('stream count of playlists listeners')\n",
    "ax[1].set_xlabel('stream count of albums listeners')"
   ]
  },
  {
   "cell_type": "code",
   "execution_count": null,
   "metadata": {},
   "outputs": [],
   "source": [
    "# without outliers\n",
    "\n",
    "# listeners and non-listeners\n",
    "fig, ax = plt.subplots(1,2,figsize=(14,5))\n",
    "sns.distplot(df[(df.track_id=='f72fa60c8d9848a393d8ac4bbaa866ef') & (df.user_stream_count<2000)] .user_stream_count, ax=ax[0])\n",
    "sns.distplot(df[(df.track_id!='f72fa60c8d9848a393d8ac4bbaa866ef') & (df.user_stream_count<2000)].user_stream_count,ax=ax[1])\n",
    "ax[0].set_xlabel('stream count of \"See You Again\" listeners')\n",
    "ax[1].set_xlabel('stream count of \"See You Again\" non-listeners')"
   ]
  },
  {
   "cell_type": "code",
   "execution_count": null,
   "metadata": {},
   "outputs": [],
   "source": [
    "gc.collect()"
   ]
  },
  {
   "cell_type": "markdown",
   "metadata": {},
   "source": [
    "## boxplot - stream source"
   ]
  },
  {
   "cell_type": "code",
   "execution_count": null,
   "metadata": {},
   "outputs": [],
   "source": [
    "df.columns"
   ]
  },
  {
   "cell_type": "code",
   "execution_count": null,
   "metadata": {},
   "outputs": [],
   "source": [
    "def get_stream_source_means(df):\n",
    "    total_play = df.groupby('stream_source')['stream_source'].count()\n",
    "    total_customers = df.groupby('stream_source')['customer_id'].nunique()\n",
    "    "
   ]
  },
  {
   "cell_type": "code",
   "execution_count": null,
   "metadata": {},
   "outputs": [],
   "source": [
    "gc.collect()"
   ]
  },
  {
   "cell_type": "code",
   "execution_count": null,
   "metadata": {},
   "outputs": [],
   "source": [
    "grouped = df.groupby('stream_source')['index'].count().rename(columns={'index':'play_count'},inplace=True)\n",
    "total_customers = df.groupby('stream_source')['customer_id'].nunique()\n"
   ]
  },
  {
   "cell_type": "code",
   "execution_count": null,
   "metadata": {},
   "outputs": [],
   "source": [
    "grouped = grouped.reset_index()\n",
    "total_customers = df.groupby('stream_source')['customer_id'].nunique().to_dict()\n",
    "grouped['customers'] = grouped.stream_source.map(total_customers)"
   ]
  },
  {
   "cell_type": "code",
   "execution_count": null,
   "metadata": {},
   "outputs": [],
   "source": [
    "grouped['dataset_flag'] = 'dataset_2'\n",
    "grouped.rename(columns={0:'play_count'},inplace=True)\n",
    "grouped"
   ]
  },
  {
   "cell_type": "code",
   "execution_count": null,
   "metadata": {},
   "outputs": [],
   "source": [
    "grouped"
   ]
  },
  {
   "cell_type": "code",
   "execution_count": null,
   "metadata": {},
   "outputs": [],
   "source": [
    "df = read_data()"
   ]
  },
  {
   "cell_type": "code",
   "execution_count": null,
   "metadata": {},
   "outputs": [],
   "source": [
    "grouped2 = df.groupby('stream_source')['customer_id'].count().rename(columns={'customer_id':'play_count'},inplace=True)\n",
    "total_customers = df.groupby('stream_source')['customer_id'].nunique().to_dict()\n",
    "grouped2 = grouped2.reset_index()\n",
    "grouped2['customers'] = grouped2.stream_source.map(total_customers)"
   ]
  },
  {
   "cell_type": "code",
   "execution_count": null,
   "metadata": {},
   "outputs": [],
   "source": [
    "grouped2['dataset_flag'] = 'dataset_1'\n",
    "grouped2"
   ]
  },
  {
   "cell_type": "code",
   "execution_count": null,
   "metadata": {},
   "outputs": [],
   "source": [
    "grouped2.rename(columns={0:'play_count'},inplace=True)"
   ]
  },
  {
   "cell_type": "code",
   "execution_count": null,
   "metadata": {},
   "outputs": [],
   "source": [
    "grouped2"
   ]
  },
  {
   "cell_type": "code",
   "execution_count": null,
   "metadata": {},
   "outputs": [],
   "source": [
    "grouped = pd.concat([grouped,grouped2],ignore_index=True)\n",
    "grouped"
   ]
  },
  {
   "cell_type": "code",
   "execution_count": null,
   "metadata": {},
   "outputs": [],
   "source": [
    "grouped['avg_play_per_customer'] = grouped.play_count.divide(grouped.customers)\n",
    "grouped"
   ]
  },
  {
   "cell_type": "code",
   "execution_count": null,
   "metadata": {},
   "outputs": [],
   "source": [
    "playlist = pd.DataFrame(df.playlist_id.value_counts()).reset_index().rename(columns={'playlist_id':'stream_count'})\n",
    "album = pd.DataFrame(df.album_name.value_counts()).reset_index().rename(columns={'album_name':'stream_count'})\n",
    "playlist['stream_source'] = 'playlist'\n",
    "album['stream_source'] = 'album'"
   ]
  },
  {
   "cell_type": "code",
   "execution_count": null,
   "metadata": {},
   "outputs": [],
   "source": [
    "df_box = pd.concat([playlist,album])\n",
    "df_box"
   ]
  },
  {
   "cell_type": "code",
   "execution_count": null,
   "metadata": {},
   "outputs": [],
   "source": [
    "import seaborn as sns\n",
    "sns.set(style=\"ticks\", palette=\"pastel\")\n",
    "\n",
    "ax = sns.boxplot(x=\"stream_source\", y=\"stream_count\", data=df_box)\n",
    "ax.set_title('Boxplot stream count of dataset 1')"
   ]
  },
  {
   "cell_type": "code",
   "execution_count": null,
   "metadata": {},
   "outputs": [],
   "source": [
    "gc.collect()"
   ]
  },
  {
   "cell_type": "code",
   "execution_count": null,
   "metadata": {},
   "outputs": [],
   "source": []
  },
  {
   "cell_type": "code",
   "execution_count": null,
   "metadata": {},
   "outputs": [],
   "source": [
    "playlist2 = pd.DataFrame(df.playlist_id.value_counts()).reset_index().rename(columns={'playlist_id':'stream_count'})\n",
    "album2 = pd.DataFrame(df.album_name.value_counts()).reset_index().rename(columns={'album_name':'stream_count'})\n",
    "playlist2['stream_source'] = 'playlist'\n",
    "album2['stream_source'] = 'album'"
   ]
  },
  {
   "cell_type": "code",
   "execution_count": null,
   "metadata": {},
   "outputs": [],
   "source": [
    "df_box2 = pd.concat([playlist2,album2])\n",
    "df_box2"
   ]
  },
  {
   "cell_type": "code",
   "execution_count": null,
   "metadata": {
    "scrolled": true
   },
   "outputs": [],
   "source": [
    "sns.set(style=\"ticks\", palette=\"pastel\")\n",
    "\n",
    "ax = sns.boxplot(x=\"stream_source\", y=\"stream_count\", data=df_box2)\n",
    "ax.set_title('Boxplot stream count of dataset 2')"
   ]
  },
  {
   "cell_type": "markdown",
   "metadata": {},
   "source": [
    "#### without outliers"
   ]
  },
  {
   "cell_type": "code",
   "execution_count": null,
   "metadata": {},
   "outputs": [],
   "source": [
    "sns.boxplot(x=\"stream_source\", y=\"stream_count\", data=df_box2,showfliers=False)"
   ]
  },
  {
   "cell_type": "code",
   "execution_count": null,
   "metadata": {},
   "outputs": [],
   "source": [
    "df_box2[df_box2.stream_source=='playlist'].stream_count.mean()"
   ]
  },
  {
   "cell_type": "code",
   "execution_count": null,
   "metadata": {},
   "outputs": [],
   "source": [
    "sns.distplot(df_box2[(df_box2.stream_source=='playlist')].stream_count),sns.distplot(df_box2[(df_box2.stream_source=='album')].stream_count)"
   ]
  },
  {
   "cell_type": "code",
   "execution_count": null,
   "metadata": {},
   "outputs": [],
   "source": [
    "sns.distplot(df_box[(df_box.stream_source=='playlist')].stream_count),sns.distplot(df_box[(df_box.stream_source=='album')].stream_count)"
   ]
  },
  {
   "cell_type": "code",
   "execution_count": null,
   "metadata": {},
   "outputs": [],
   "source": [
    "df_b = play.merge"
   ]
  },
  {
   "cell_type": "code",
   "execution_count": null,
   "metadata": {},
   "outputs": [],
   "source": []
  },
  {
   "cell_type": "markdown",
   "metadata": {},
   "source": [
    "## track repeat count"
   ]
  },
  {
   "cell_type": "code",
   "execution_count": null,
   "metadata": {},
   "outputs": [],
   "source": [
    "import gc\n",
    "gc.collect()"
   ]
  },
  {
   "cell_type": "code",
   "execution_count": null,
   "metadata": {},
   "outputs": [],
   "source": [
    "track_id = 'f72fa60c8d9848a393d8ac4bbaa866ef'"
   ]
  },
  {
   "cell_type": "code",
   "execution_count": null,
   "metadata": {},
   "outputs": [],
   "source": [
    "def get_repeated_stream_count(df):\n",
    "    # count of repeated track streaming\n",
    "    repeated = df.groupby(['customer_id','track_id'])['logtime'].count()\n",
    "    df = df.merge(repeated.reset_index(), on=['customer_id','track_id'],how='left')\n",
    "    df.rename(columns = {'logtime_x':'logtime', 'logtime_y':'track_repeat_count'}, inplace = True)\n",
    "    return df"
   ]
  },
  {
   "cell_type": "code",
   "execution_count": null,
   "metadata": {},
   "outputs": [],
   "source": [
    "df = get_repeated_stream_count(df)"
   ]
  },
  {
   "cell_type": "code",
   "execution_count": null,
   "metadata": {},
   "outputs": [],
   "source": [
    "ax = df[df.track_id!=track_id].drop_duplicates(subset=['customer_id','track_id']).groupby('first_stream_source')['track_repeat_count'].mean().plot.barh(color='darkblue',figsize=(8,6),title='Average track repeat count per first source')\n",
    "val = df.drop_duplicates(subset=['customer_id','track_id']).groupby('first_stream_source')['track_repeat_count'].mean().values.tolist()\n",
    "ax.set_ylabel('First Stream Source')\n",
    "ax.set_xlabel('Number of repeat')\n",
    "for n,row in enumerate(val):\n",
    "    ax.text(row-0.2,n-0.05, round(row,2), color='white', ha=\"center\",fontsize=12)"
   ]
  },
  {
   "cell_type": "code",
   "execution_count": null,
   "metadata": {},
   "outputs": [],
   "source": []
  }
 ],
 "metadata": {
  "kernelspec": {
   "display_name": "Python 3",
   "language": "python",
   "name": "python3"
  },
  "language_info": {
   "codemirror_mode": {
    "name": "ipython",
    "version": 3
   },
   "file_extension": ".py",
   "mimetype": "text/x-python",
   "name": "python",
   "nbconvert_exporter": "python",
   "pygments_lexer": "ipython3",
   "version": "3.6.4"
  }
 },
 "nbformat": 4,
 "nbformat_minor": 2
}
