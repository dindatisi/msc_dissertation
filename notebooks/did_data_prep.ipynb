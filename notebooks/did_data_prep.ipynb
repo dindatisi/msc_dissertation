{
 "cells": [
  {
   "cell_type": "code",
   "execution_count": null,
   "metadata": {
    "collapsed": true
   },
   "outputs": [],
   "source": [
    "import pandas as pd\n",
    "import gc"
   ]
  },
  {
   "cell_type": "code",
   "execution_count": null,
   "metadata": {
    "collapsed": true
   },
   "outputs": [],
   "source": [
    "def get_dummies(df):\n",
    "    access = pd.get_dummies(df.access, drop_first=True)\n",
    "    gender = pd.get_dummies(df.gender, drop_first=True)\n",
    "    df = pd.concat([df,access,gender],axis=1)\n",
    "    df = df.drop(['access','gender'],axis=1)\n",
    "    return df"
   ]
  },
  {
   "cell_type": "markdown",
   "metadata": {},
   "source": [
    "### preparing playlist pair"
   ]
  },
  {
   "cell_type": "code",
   "execution_count": null,
   "metadata": {
    "collapsed": true
   },
   "outputs": [],
   "source": [
    "gc.collect()"
   ]
  },
  {
   "cell_type": "code",
   "execution_count": null,
   "metadata": {
    "collapsed": true
   },
   "outputs": [],
   "source": [
    "playlist_t = pd.read_pickle('/project/exp_output/paylist_treatment_did_all_vars.pickle')\n",
    "playlist_c = pd.read_pickle('/project/exp_output/playlist_control_did_all_vars.pickle')"
   ]
  },
  {
   "cell_type": "code",
   "execution_count": null,
   "metadata": {
    "collapsed": true
   },
   "outputs": [],
   "source": [
    "playlist_t = playlist_t[playlist_t.week<18]\n",
    "playlist_c = playlist_c[playlist_c.week<18]"
   ]
  },
  {
   "cell_type": "code",
   "execution_count": null,
   "metadata": {
    "collapsed": true
   },
   "outputs": [],
   "source": [
    "playlist_t = playlist_t[['access', 'age_bin_adult', 'age_bin_senior', 'age_bin_teens',\n",
    "        'age_bin_young adult', 'customer_id', 'gender', 'week',\n",
    "        'weekly_stream_count','treated']]\n",
    "\n",
    "playlist_c = playlist_c[['access', 'age_bin_adult', 'age_bin_senior', 'age_bin_teens',\n",
    "        'age_bin_young adult', 'customer_id', 'gender', 'week',\n",
    "        'weekly_stream_count','treated']]"
   ]
  },
  {
   "cell_type": "code",
   "execution_count": null,
   "metadata": {
    "collapsed": true
   },
   "outputs": [],
   "source": [
    "playlist_t = get_dummies(playlist_t)\n",
    "playlist_c = get_dummies(playlist_c)"
   ]
  },
  {
   "cell_type": "code",
   "execution_count": null,
   "metadata": {
    "collapsed": true
   },
   "outputs": [],
   "source": [
    "did_playlist = pd.concat([playlist_t,playlist_c],ignore_index=True)"
   ]
  },
  {
   "cell_type": "code",
   "execution_count": null,
   "metadata": {
    "collapsed": true
   },
   "outputs": [],
   "source": [
    "did_playlist"
   ]
  },
  {
   "cell_type": "code",
   "execution_count": null,
   "metadata": {
    "collapsed": true
   },
   "outputs": [],
   "source": [
    "did_playlist.to_pickle('/project/exp_output/playlist_did_with_covariates.pickle')"
   ]
  },
  {
   "cell_type": "code",
   "execution_count": null,
   "metadata": {
    "collapsed": true
   },
   "outputs": [],
   "source": [
    "did_playlist.drop_duplicates(subset=['customer_id','week']).to_csv('/project/exp_output/playlist_did_with_covariates.csv', index=False)"
   ]
  },
  {
   "cell_type": "code",
   "execution_count": null,
   "metadata": {
    "collapsed": true
   },
   "outputs": [],
   "source": [
    "gc.collect()"
   ]
  },
  {
   "cell_type": "code",
   "execution_count": null,
   "metadata": {
    "collapsed": true
   },
   "outputs": [],
   "source": [
    "did_playlist[(did_playlist.week<18)].drop_duplicates(subset=['customer_id','week']).to_csv('/project/exp_output/playlist_did_to_w17_with_covariates.csv', index=False)"
   ]
  },
  {
   "cell_type": "code",
   "execution_count": null,
   "metadata": {
    "collapsed": true
   },
   "outputs": [],
   "source": [
    "did_playlist.week.unique()"
   ]
  },
  {
   "cell_type": "code",
   "execution_count": null,
   "metadata": {
    "collapsed": true
   },
   "outputs": [],
   "source": [
    "did_playlist[(did_playlist.week<18) & (did_playlist.week>13)].drop_duplicates(subset=['customer_id','week']).to_csv('/project/exp_output/playlist_did_w14_w17_with_covariates.csv', index=False)"
   ]
  },
  {
   "cell_type": "markdown",
   "metadata": {},
   "source": [
    "### preparing album pair"
   ]
  },
  {
   "cell_type": "code",
   "execution_count": null,
   "metadata": {
    "collapsed": true
   },
   "outputs": [],
   "source": [
    "album_t = pd.read_pickle('/project/exp_output/album_treatment_did_all_vars.pickle')\n",
    "album_c = pd.read_pickle('/project/exp_output/album_control_did_all_vars.pickle')"
   ]
  },
  {
   "cell_type": "code",
   "execution_count": null,
   "metadata": {
    "collapsed": true
   },
   "outputs": [],
   "source": [
    "album_t = album_t[['access', 'age_bin_adult', 'age_bin_senior', 'age_bin_teens',\n",
    "        'age_bin_young adult', 'customer_id', 'gender', 'week',\n",
    "        'weekly_stream_count','treated']]\n",
    "\n",
    "album_c = album_c[['access', 'age_bin_adult', 'age_bin_senior', 'age_bin_teens',\n",
    "        'age_bin_young adult', 'customer_id', 'gender', 'week',\n",
    "        'weekly_stream_count','treated']]"
   ]
  },
  {
   "cell_type": "code",
   "execution_count": null,
   "metadata": {
    "collapsed": true
   },
   "outputs": [],
   "source": [
    "album_t = album_t[album_t.week<18]\n",
    "album_c = album_c[album_c.week<18]"
   ]
  },
  {
   "cell_type": "code",
   "execution_count": null,
   "metadata": {
    "collapsed": true
   },
   "outputs": [],
   "source": [
    "did_album = pd.concat([album_t,album_c],ignore_index=True)"
   ]
  },
  {
   "cell_type": "code",
   "execution_count": null,
   "metadata": {
    "collapsed": true
   },
   "outputs": [],
   "source": [
    "did_album"
   ]
  },
  {
   "cell_type": "code",
   "execution_count": null,
   "metadata": {
    "collapsed": true
   },
   "outputs": [],
   "source": [
    "did_album = get_dummies(did_album)\n",
    "did_album"
   ]
  },
  {
   "cell_type": "code",
   "execution_count": null,
   "metadata": {
    "collapsed": true
   },
   "outputs": [],
   "source": [
    "did_album.drop_duplicates(subset=['customer_id','week']).to_csv('/project/exp_output/album_did_with_covariates.csv', index=False)"
   ]
  },
  {
   "cell_type": "code",
   "execution_count": null,
   "metadata": {
    "collapsed": true
   },
   "outputs": [],
   "source": [
    "gc.collect()"
   ]
  },
  {
   "cell_type": "code",
   "execution_count": null,
   "metadata": {
    "collapsed": true
   },
   "outputs": [],
   "source": [
    "did_album[(did_album.week>13)].drop_duplicates(subset=['customer_id','week']).to_csv('/project/exp_output/album_did_w14_w17_with_covariates.csv', index=False)"
   ]
  },
  {
   "cell_type": "code",
   "execution_count": null,
   "metadata": {
    "collapsed": true
   },
   "outputs": [],
   "source": [
    "album_c.customer_id.nunique()"
   ]
  },
  {
   "cell_type": "code",
   "execution_count": null,
   "metadata": {
    "collapsed": true
   },
   "outputs": [],
   "source": [
    "did_playlist.week.value_counts()"
   ]
  },
  {
   "cell_type": "markdown",
   "metadata": {},
   "source": [
    "### album-playlist"
   ]
  },
  {
   "cell_type": "code",
   "execution_count": null,
   "metadata": {
    "collapsed": true
   },
   "outputs": [],
   "source": [
    "playlist_t = playlist_t[(playlist_t.week<18) & (playlist_t.week>13)].drop_duplicates(subset=['customer_id','week'])\n",
    "album_t = album_t[(album_t.week<18) & (album_t.week>13)].drop_duplicates(subset=['customer_id','week'])"
   ]
  },
  {
   "cell_type": "code",
   "execution_count": null,
   "metadata": {
    "collapsed": true
   },
   "outputs": [],
   "source": [
    "playlist_t['is_playlist'] = 1\n",
    "album_t['is_playlist'] = 0"
   ]
  },
  {
   "cell_type": "code",
   "execution_count": null,
   "metadata": {
    "collapsed": true
   },
   "outputs": [],
   "source": [
    "album_t = get_dummies(album_t)"
   ]
  },
  {
   "cell_type": "code",
   "execution_count": null,
   "metadata": {
    "collapsed": true
   },
   "outputs": [],
   "source": [
    "album_t = album_t[['age_bin_adult', 'age_bin_senior', 'age_bin_teens',\n",
    "        'age_bin_young adult', 'customer_id', 'week', 'weekly_stream_count',\n",
    "        'treated', 'premium', 'male', 'is_playlist']]"
   ]
  },
  {
   "cell_type": "code",
   "execution_count": null,
   "metadata": {
    "collapsed": true
   },
   "outputs": [],
   "source": [
    "playlist_t.columns, album_t.columns"
   ]
  },
  {
   "cell_type": "code",
   "execution_count": null,
   "metadata": {
    "collapsed": true
   },
   "outputs": [],
   "source": [
    "album_t"
   ]
  },
  {
   "cell_type": "code",
   "execution_count": null,
   "metadata": {
    "collapsed": true
   },
   "outputs": [],
   "source": [
    "playlist_t"
   ]
  },
  {
   "cell_type": "code",
   "execution_count": null,
   "metadata": {
    "collapsed": true
   },
   "outputs": [],
   "source": [
    "did_treatment = pd.concat([playlist_t,album_t],ignore_index=True)\n",
    "did_treatment"
   ]
  },
  {
   "cell_type": "code",
   "execution_count": null,
   "metadata": {
    "collapsed": true
   },
   "outputs": [],
   "source": []
  }
 ],
 "metadata": {
  "kernelspec": {
   "display_name": "Python 3",
   "language": "python",
   "name": "python3"
  },
  "language_info": {
   "codemirror_mode": {
    "name": "ipython",
    "version": 3
   },
   "file_extension": ".py",
   "mimetype": "text/x-python",
   "name": "python",
   "nbconvert_exporter": "python",
   "pygments_lexer": "ipython3",
   "version": "3.6.4"
  }
 },
 "nbformat": 4,
 "nbformat_minor": 2
}
